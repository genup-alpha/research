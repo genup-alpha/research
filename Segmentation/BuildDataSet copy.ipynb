{
 "cells": [
  {
   "cell_type": "markdown",
   "metadata": {},
   "source": [
    "### 1. 데이터 준비 및 전처리\n",
    "- **압축 해제**: `mini_data.zip` 파일의 내용을 압축 해제하고 파일 구조를 확인합니다.\n",
    "- **데이터 분리**: 이미지와 마스크를 연결하는 CSV 파일을 사용하여 이미지와 해당 마스크를 매칭하고, 이를 훈련 데이터와 검증 데이터로 9:1 비율로 분리합니다."
   ]
  },
  {
   "cell_type": "code",
   "execution_count": 1,
   "metadata": {},
   "outputs": [
    {
     "ename": "FileNotFoundError",
     "evalue": "[Errno 2] No such file or directory: '../DataSet/BeadSegmentation/mini_data/train.csv'",
     "output_type": "error",
     "traceback": [
      "\u001b[0;31m---------------------------------------------------------------------------\u001b[0m",
      "\u001b[0;31mFileNotFoundError\u001b[0m                         Traceback (most recent call last)",
      "Cell \u001b[0;32mIn[1], line 9\u001b[0m\n\u001b[1;32m      6\u001b[0m csv_path \u001b[38;5;241m=\u001b[39m os\u001b[38;5;241m.\u001b[39mpath\u001b[38;5;241m.\u001b[39mjoin(data_path, \u001b[38;5;124m'\u001b[39m\u001b[38;5;124mmini_data\u001b[39m\u001b[38;5;124m'\u001b[39m, \u001b[38;5;124m'\u001b[39m\u001b[38;5;124mtrain.csv\u001b[39m\u001b[38;5;124m'\u001b[39m)\n\u001b[1;32m      8\u001b[0m \u001b[38;5;66;03m# CSV 파일 로드\u001b[39;00m\n\u001b[0;32m----> 9\u001b[0m data_df \u001b[38;5;241m=\u001b[39m \u001b[43mpd\u001b[49m\u001b[38;5;241;43m.\u001b[39;49m\u001b[43mread_csv\u001b[49m\u001b[43m(\u001b[49m\u001b[43mcsv_path\u001b[49m\u001b[43m)\u001b[49m\n\u001b[1;32m     10\u001b[0m data_df\u001b[38;5;241m.\u001b[39mhead()\n",
      "File \u001b[0;32m~/.pyenv/versions/3.11.5/envs/my_proj_env/lib/python3.11/site-packages/pandas/io/parsers/readers.py:1026\u001b[0m, in \u001b[0;36mread_csv\u001b[0;34m(filepath_or_buffer, sep, delimiter, header, names, index_col, usecols, dtype, engine, converters, true_values, false_values, skipinitialspace, skiprows, skipfooter, nrows, na_values, keep_default_na, na_filter, verbose, skip_blank_lines, parse_dates, infer_datetime_format, keep_date_col, date_parser, date_format, dayfirst, cache_dates, iterator, chunksize, compression, thousands, decimal, lineterminator, quotechar, quoting, doublequote, escapechar, comment, encoding, encoding_errors, dialect, on_bad_lines, delim_whitespace, low_memory, memory_map, float_precision, storage_options, dtype_backend)\u001b[0m\n\u001b[1;32m   1013\u001b[0m kwds_defaults \u001b[38;5;241m=\u001b[39m _refine_defaults_read(\n\u001b[1;32m   1014\u001b[0m     dialect,\n\u001b[1;32m   1015\u001b[0m     delimiter,\n\u001b[0;32m   (...)\u001b[0m\n\u001b[1;32m   1022\u001b[0m     dtype_backend\u001b[38;5;241m=\u001b[39mdtype_backend,\n\u001b[1;32m   1023\u001b[0m )\n\u001b[1;32m   1024\u001b[0m kwds\u001b[38;5;241m.\u001b[39mupdate(kwds_defaults)\n\u001b[0;32m-> 1026\u001b[0m \u001b[38;5;28;01mreturn\u001b[39;00m \u001b[43m_read\u001b[49m\u001b[43m(\u001b[49m\u001b[43mfilepath_or_buffer\u001b[49m\u001b[43m,\u001b[49m\u001b[43m \u001b[49m\u001b[43mkwds\u001b[49m\u001b[43m)\u001b[49m\n",
      "File \u001b[0;32m~/.pyenv/versions/3.11.5/envs/my_proj_env/lib/python3.11/site-packages/pandas/io/parsers/readers.py:620\u001b[0m, in \u001b[0;36m_read\u001b[0;34m(filepath_or_buffer, kwds)\u001b[0m\n\u001b[1;32m    617\u001b[0m _validate_names(kwds\u001b[38;5;241m.\u001b[39mget(\u001b[38;5;124m\"\u001b[39m\u001b[38;5;124mnames\u001b[39m\u001b[38;5;124m\"\u001b[39m, \u001b[38;5;28;01mNone\u001b[39;00m))\n\u001b[1;32m    619\u001b[0m \u001b[38;5;66;03m# Create the parser.\u001b[39;00m\n\u001b[0;32m--> 620\u001b[0m parser \u001b[38;5;241m=\u001b[39m \u001b[43mTextFileReader\u001b[49m\u001b[43m(\u001b[49m\u001b[43mfilepath_or_buffer\u001b[49m\u001b[43m,\u001b[49m\u001b[43m \u001b[49m\u001b[38;5;241;43m*\u001b[39;49m\u001b[38;5;241;43m*\u001b[39;49m\u001b[43mkwds\u001b[49m\u001b[43m)\u001b[49m\n\u001b[1;32m    622\u001b[0m \u001b[38;5;28;01mif\u001b[39;00m chunksize \u001b[38;5;129;01mor\u001b[39;00m iterator:\n\u001b[1;32m    623\u001b[0m     \u001b[38;5;28;01mreturn\u001b[39;00m parser\n",
      "File \u001b[0;32m~/.pyenv/versions/3.11.5/envs/my_proj_env/lib/python3.11/site-packages/pandas/io/parsers/readers.py:1620\u001b[0m, in \u001b[0;36mTextFileReader.__init__\u001b[0;34m(self, f, engine, **kwds)\u001b[0m\n\u001b[1;32m   1617\u001b[0m     \u001b[38;5;28mself\u001b[39m\u001b[38;5;241m.\u001b[39moptions[\u001b[38;5;124m\"\u001b[39m\u001b[38;5;124mhas_index_names\u001b[39m\u001b[38;5;124m\"\u001b[39m] \u001b[38;5;241m=\u001b[39m kwds[\u001b[38;5;124m\"\u001b[39m\u001b[38;5;124mhas_index_names\u001b[39m\u001b[38;5;124m\"\u001b[39m]\n\u001b[1;32m   1619\u001b[0m \u001b[38;5;28mself\u001b[39m\u001b[38;5;241m.\u001b[39mhandles: IOHandles \u001b[38;5;241m|\u001b[39m \u001b[38;5;28;01mNone\u001b[39;00m \u001b[38;5;241m=\u001b[39m \u001b[38;5;28;01mNone\u001b[39;00m\n\u001b[0;32m-> 1620\u001b[0m \u001b[38;5;28mself\u001b[39m\u001b[38;5;241m.\u001b[39m_engine \u001b[38;5;241m=\u001b[39m \u001b[38;5;28;43mself\u001b[39;49m\u001b[38;5;241;43m.\u001b[39;49m\u001b[43m_make_engine\u001b[49m\u001b[43m(\u001b[49m\u001b[43mf\u001b[49m\u001b[43m,\u001b[49m\u001b[43m \u001b[49m\u001b[38;5;28;43mself\u001b[39;49m\u001b[38;5;241;43m.\u001b[39;49m\u001b[43mengine\u001b[49m\u001b[43m)\u001b[49m\n",
      "File \u001b[0;32m~/.pyenv/versions/3.11.5/envs/my_proj_env/lib/python3.11/site-packages/pandas/io/parsers/readers.py:1880\u001b[0m, in \u001b[0;36mTextFileReader._make_engine\u001b[0;34m(self, f, engine)\u001b[0m\n\u001b[1;32m   1878\u001b[0m     \u001b[38;5;28;01mif\u001b[39;00m \u001b[38;5;124m\"\u001b[39m\u001b[38;5;124mb\u001b[39m\u001b[38;5;124m\"\u001b[39m \u001b[38;5;129;01mnot\u001b[39;00m \u001b[38;5;129;01min\u001b[39;00m mode:\n\u001b[1;32m   1879\u001b[0m         mode \u001b[38;5;241m+\u001b[39m\u001b[38;5;241m=\u001b[39m \u001b[38;5;124m\"\u001b[39m\u001b[38;5;124mb\u001b[39m\u001b[38;5;124m\"\u001b[39m\n\u001b[0;32m-> 1880\u001b[0m \u001b[38;5;28mself\u001b[39m\u001b[38;5;241m.\u001b[39mhandles \u001b[38;5;241m=\u001b[39m \u001b[43mget_handle\u001b[49m\u001b[43m(\u001b[49m\n\u001b[1;32m   1881\u001b[0m \u001b[43m    \u001b[49m\u001b[43mf\u001b[49m\u001b[43m,\u001b[49m\n\u001b[1;32m   1882\u001b[0m \u001b[43m    \u001b[49m\u001b[43mmode\u001b[49m\u001b[43m,\u001b[49m\n\u001b[1;32m   1883\u001b[0m \u001b[43m    \u001b[49m\u001b[43mencoding\u001b[49m\u001b[38;5;241;43m=\u001b[39;49m\u001b[38;5;28;43mself\u001b[39;49m\u001b[38;5;241;43m.\u001b[39;49m\u001b[43moptions\u001b[49m\u001b[38;5;241;43m.\u001b[39;49m\u001b[43mget\u001b[49m\u001b[43m(\u001b[49m\u001b[38;5;124;43m\"\u001b[39;49m\u001b[38;5;124;43mencoding\u001b[39;49m\u001b[38;5;124;43m\"\u001b[39;49m\u001b[43m,\u001b[49m\u001b[43m \u001b[49m\u001b[38;5;28;43;01mNone\u001b[39;49;00m\u001b[43m)\u001b[49m\u001b[43m,\u001b[49m\n\u001b[1;32m   1884\u001b[0m \u001b[43m    \u001b[49m\u001b[43mcompression\u001b[49m\u001b[38;5;241;43m=\u001b[39;49m\u001b[38;5;28;43mself\u001b[39;49m\u001b[38;5;241;43m.\u001b[39;49m\u001b[43moptions\u001b[49m\u001b[38;5;241;43m.\u001b[39;49m\u001b[43mget\u001b[49m\u001b[43m(\u001b[49m\u001b[38;5;124;43m\"\u001b[39;49m\u001b[38;5;124;43mcompression\u001b[39;49m\u001b[38;5;124;43m\"\u001b[39;49m\u001b[43m,\u001b[49m\u001b[43m \u001b[49m\u001b[38;5;28;43;01mNone\u001b[39;49;00m\u001b[43m)\u001b[49m\u001b[43m,\u001b[49m\n\u001b[1;32m   1885\u001b[0m \u001b[43m    \u001b[49m\u001b[43mmemory_map\u001b[49m\u001b[38;5;241;43m=\u001b[39;49m\u001b[38;5;28;43mself\u001b[39;49m\u001b[38;5;241;43m.\u001b[39;49m\u001b[43moptions\u001b[49m\u001b[38;5;241;43m.\u001b[39;49m\u001b[43mget\u001b[49m\u001b[43m(\u001b[49m\u001b[38;5;124;43m\"\u001b[39;49m\u001b[38;5;124;43mmemory_map\u001b[39;49m\u001b[38;5;124;43m\"\u001b[39;49m\u001b[43m,\u001b[49m\u001b[43m \u001b[49m\u001b[38;5;28;43;01mFalse\u001b[39;49;00m\u001b[43m)\u001b[49m\u001b[43m,\u001b[49m\n\u001b[1;32m   1886\u001b[0m \u001b[43m    \u001b[49m\u001b[43mis_text\u001b[49m\u001b[38;5;241;43m=\u001b[39;49m\u001b[43mis_text\u001b[49m\u001b[43m,\u001b[49m\n\u001b[1;32m   1887\u001b[0m \u001b[43m    \u001b[49m\u001b[43merrors\u001b[49m\u001b[38;5;241;43m=\u001b[39;49m\u001b[38;5;28;43mself\u001b[39;49m\u001b[38;5;241;43m.\u001b[39;49m\u001b[43moptions\u001b[49m\u001b[38;5;241;43m.\u001b[39;49m\u001b[43mget\u001b[49m\u001b[43m(\u001b[49m\u001b[38;5;124;43m\"\u001b[39;49m\u001b[38;5;124;43mencoding_errors\u001b[39;49m\u001b[38;5;124;43m\"\u001b[39;49m\u001b[43m,\u001b[49m\u001b[43m \u001b[49m\u001b[38;5;124;43m\"\u001b[39;49m\u001b[38;5;124;43mstrict\u001b[39;49m\u001b[38;5;124;43m\"\u001b[39;49m\u001b[43m)\u001b[49m\u001b[43m,\u001b[49m\n\u001b[1;32m   1888\u001b[0m \u001b[43m    \u001b[49m\u001b[43mstorage_options\u001b[49m\u001b[38;5;241;43m=\u001b[39;49m\u001b[38;5;28;43mself\u001b[39;49m\u001b[38;5;241;43m.\u001b[39;49m\u001b[43moptions\u001b[49m\u001b[38;5;241;43m.\u001b[39;49m\u001b[43mget\u001b[49m\u001b[43m(\u001b[49m\u001b[38;5;124;43m\"\u001b[39;49m\u001b[38;5;124;43mstorage_options\u001b[39;49m\u001b[38;5;124;43m\"\u001b[39;49m\u001b[43m,\u001b[49m\u001b[43m \u001b[49m\u001b[38;5;28;43;01mNone\u001b[39;49;00m\u001b[43m)\u001b[49m\u001b[43m,\u001b[49m\n\u001b[1;32m   1889\u001b[0m \u001b[43m\u001b[49m\u001b[43m)\u001b[49m\n\u001b[1;32m   1890\u001b[0m \u001b[38;5;28;01massert\u001b[39;00m \u001b[38;5;28mself\u001b[39m\u001b[38;5;241m.\u001b[39mhandles \u001b[38;5;129;01mis\u001b[39;00m \u001b[38;5;129;01mnot\u001b[39;00m \u001b[38;5;28;01mNone\u001b[39;00m\n\u001b[1;32m   1891\u001b[0m f \u001b[38;5;241m=\u001b[39m \u001b[38;5;28mself\u001b[39m\u001b[38;5;241m.\u001b[39mhandles\u001b[38;5;241m.\u001b[39mhandle\n",
      "File \u001b[0;32m~/.pyenv/versions/3.11.5/envs/my_proj_env/lib/python3.11/site-packages/pandas/io/common.py:873\u001b[0m, in \u001b[0;36mget_handle\u001b[0;34m(path_or_buf, mode, encoding, compression, memory_map, is_text, errors, storage_options)\u001b[0m\n\u001b[1;32m    868\u001b[0m \u001b[38;5;28;01melif\u001b[39;00m \u001b[38;5;28misinstance\u001b[39m(handle, \u001b[38;5;28mstr\u001b[39m):\n\u001b[1;32m    869\u001b[0m     \u001b[38;5;66;03m# Check whether the filename is to be opened in binary mode.\u001b[39;00m\n\u001b[1;32m    870\u001b[0m     \u001b[38;5;66;03m# Binary mode does not support 'encoding' and 'newline'.\u001b[39;00m\n\u001b[1;32m    871\u001b[0m     \u001b[38;5;28;01mif\u001b[39;00m ioargs\u001b[38;5;241m.\u001b[39mencoding \u001b[38;5;129;01mand\u001b[39;00m \u001b[38;5;124m\"\u001b[39m\u001b[38;5;124mb\u001b[39m\u001b[38;5;124m\"\u001b[39m \u001b[38;5;129;01mnot\u001b[39;00m \u001b[38;5;129;01min\u001b[39;00m ioargs\u001b[38;5;241m.\u001b[39mmode:\n\u001b[1;32m    872\u001b[0m         \u001b[38;5;66;03m# Encoding\u001b[39;00m\n\u001b[0;32m--> 873\u001b[0m         handle \u001b[38;5;241m=\u001b[39m \u001b[38;5;28;43mopen\u001b[39;49m\u001b[43m(\u001b[49m\n\u001b[1;32m    874\u001b[0m \u001b[43m            \u001b[49m\u001b[43mhandle\u001b[49m\u001b[43m,\u001b[49m\n\u001b[1;32m    875\u001b[0m \u001b[43m            \u001b[49m\u001b[43mioargs\u001b[49m\u001b[38;5;241;43m.\u001b[39;49m\u001b[43mmode\u001b[49m\u001b[43m,\u001b[49m\n\u001b[1;32m    876\u001b[0m \u001b[43m            \u001b[49m\u001b[43mencoding\u001b[49m\u001b[38;5;241;43m=\u001b[39;49m\u001b[43mioargs\u001b[49m\u001b[38;5;241;43m.\u001b[39;49m\u001b[43mencoding\u001b[49m\u001b[43m,\u001b[49m\n\u001b[1;32m    877\u001b[0m \u001b[43m            \u001b[49m\u001b[43merrors\u001b[49m\u001b[38;5;241;43m=\u001b[39;49m\u001b[43merrors\u001b[49m\u001b[43m,\u001b[49m\n\u001b[1;32m    878\u001b[0m \u001b[43m            \u001b[49m\u001b[43mnewline\u001b[49m\u001b[38;5;241;43m=\u001b[39;49m\u001b[38;5;124;43m\"\u001b[39;49m\u001b[38;5;124;43m\"\u001b[39;49m\u001b[43m,\u001b[49m\n\u001b[1;32m    879\u001b[0m \u001b[43m        \u001b[49m\u001b[43m)\u001b[49m\n\u001b[1;32m    880\u001b[0m     \u001b[38;5;28;01melse\u001b[39;00m:\n\u001b[1;32m    881\u001b[0m         \u001b[38;5;66;03m# Binary mode\u001b[39;00m\n\u001b[1;32m    882\u001b[0m         handle \u001b[38;5;241m=\u001b[39m \u001b[38;5;28mopen\u001b[39m(handle, ioargs\u001b[38;5;241m.\u001b[39mmode)\n",
      "\u001b[0;31mFileNotFoundError\u001b[0m: [Errno 2] No such file or directory: '../DataSet/BeadSegmentation/mini_data/train.csv'"
     ]
    }
   ],
   "source": [
    "import os\n",
    "import pandas as pd\n",
    "\n",
    "data_path = '../DataSet/BeadSegmentation/'\n",
    "# train.csv 파일 경로\n",
    "csv_path = os.path.join(data_path, 'mini_data', 'train.csv')\n",
    "\n",
    "# CSV 파일 로드\n",
    "data_df = pd.read_csv(csv_path)\n",
    "data_df.head()\n"
   ]
  },
  {
   "cell_type": "markdown",
   "metadata": {},
   "source": [
    "### 데이터 분리 단계\n",
    "- **데이터셋 셔플링**: 데이터를 무작위로 섞어서 모델이 특정 순서에 의존하지 않도록 합니다.\n",
    "- **분리**: 전체 데이터셋을 90%는 훈련용으로, 나머지 10%는 검증용으로 분리합니다.\n",
    "- **파일 저장**: 분리된 데이터를 각각의 폴더(훈련 및 검증)에 저장합니다."
   ]
  },
  {
   "cell_type": "code",
   "execution_count": 58,
   "metadata": {},
   "outputs": [
    {
     "data": {
      "text/plain": [
       "(                         ImageId                             MaskId\n",
       " 37  20230930_21h03m42s_B11_2.png  20230930_21h03m42s_B11_2_mask.png\n",
       " 12  20230930_21h03m13s_B04_3.png  20230930_21h03m13s_B04_3_mask.png\n",
       " 19  20230930_21h03m20s_B06_2.png  20230930_21h03m20s_B06_2_mask.png\n",
       " 4   20230930_21h03m06s_B02_3.png  20230930_21h03m06s_B02_3_mask.png\n",
       " 25  20230930_21h03m31s_B08_2.png  20230930_21h03m31s_B08_2_mask.png,\n",
       "                          ImageId                             MaskId\n",
       " 27  20230930_21h03m31s_B08_4.png  20230930_21h03m31s_B08_4_mask.png\n",
       " 40  20230930_21h03m46s_B12_1.png  20230930_21h03m46s_B12_1_mask.png\n",
       " 26  20230930_21h03m31s_B08_3.png  20230930_21h03m31s_B08_3_mask.png\n",
       " 43  20230930_21h03m46s_B12_4.png  20230930_21h03m46s_B12_4_mask.png\n",
       " 24  20230930_21h03m31s_B08_1.png  20230930_21h03m31s_B08_1_mask.png,\n",
       " 43,\n",
       " 5)"
      ]
     },
     "execution_count": 58,
     "metadata": {},
     "output_type": "execute_result"
    }
   ],
   "source": [
    "from sklearn.model_selection import train_test_split\n",
    "\n",
    "# 데이터셋을 훈련용과 검증용으로 분리 (90% 훈련, 10% 검증)\n",
    "train_df, val_df = train_test_split(data_df, test_size=0.1, random_state=42)\n",
    "\n",
    "# 훈련용과 검증용 데이터 프레임 확인\n",
    "train_df.head(), val_df.head(), len(train_df), len(val_df)\n"
   ]
  },
  {
   "cell_type": "markdown",
   "metadata": {},
   "source": [
    "### 데이터셋 폴더 셋업"
   ]
  },
  {
   "cell_type": "code",
   "execution_count": 59,
   "metadata": {},
   "outputs": [
    {
     "data": {
      "text/plain": [
       "(['20230930_21h03m13s_B04_2.png',\n",
       "  '20230930_21h03m13s_B04_4.png',\n",
       "  '20230930_21h03m20s_B06_3.png',\n",
       "  '20230930_21h03m50s_B13_2.png',\n",
       "  '20230930_21h03m35s_B09_1.png',\n",
       "  '20230930_21h03m35s_B09_3.png',\n",
       "  '20230930_21h03m06s_B02_3.png',\n",
       "  '20230930_21h03m39s_B10_3.png',\n",
       "  '20230930_21h03m09s_B03_3.png',\n",
       "  '20230930_21h03m50s_B13_3.png',\n",
       "  '20230930_21h03m46s_B12_3.png',\n",
       "  '20230930_21h03m06s_B02_4.png',\n",
       "  '20230930_21h03m42s_B11_1.png',\n",
       "  '20230930_21h03m20s_B06_4.png',\n",
       "  '20230930_21h03m39s_B10_2.png',\n",
       "  '20230930_21h03m06s_B02_1.png',\n",
       "  '20230930_21h03m20s_B06_1.png',\n",
       "  '20230930_21h03m50s_B13_1.png',\n",
       "  '20230930_21h03m42s_B11_3.png',\n",
       "  '20230930_21h03m09s_B03_2.png',\n",
       "  '20230930_21h03m06s_B02_2.png',\n",
       "  '20230930_21h03m42s_B11_4.png',\n",
       "  '20230930_21h03m35s_B09_2.png',\n",
       "  '20230930_21h03m03s_B01_2.png',\n",
       "  '20230930_21h03m16s_B05_4.png',\n",
       "  '20230930_21h03m13s_B04_1.png',\n",
       "  '20230930_21h03m35s_B09_4.png',\n",
       "  '20230930_21h03m42s_B11_2.png',\n",
       "  '20230930_21h03m16s_B05_3.png',\n",
       "  '20230930_21h03m09s_B03_1.png',\n",
       "  '20230930_21h03m20s_B06_2.png',\n",
       "  '20230930_21h03m03s_B01_1.png',\n",
       "  '20230930_21h03m39s_B10_4.png',\n",
       "  '20230930_21h03m24s_B07_2.png',\n",
       "  '20230930_21h03m09s_B03_4.png',\n",
       "  '20230930_21h03m31s_B08_2.png',\n",
       "  '20230930_21h03m24s_B07_1.png',\n",
       "  '20230930_21h03m13s_B04_3.png',\n",
       "  '20230930_21h03m16s_B05_2.png',\n",
       "  '20230930_21h03m16s_B05_1.png',\n",
       "  '20230930_21h03m39s_B10_1.png',\n",
       "  '20230930_21h03m46s_B12_2.png',\n",
       "  '20230930_21h03m50s_B13_4.png'],\n",
       " ['20230930_21h03m16s_B05_1_mask.png',\n",
       "  '20230930_21h03m35s_B09_2_mask.png',\n",
       "  '20230930_21h03m24s_B07_2_mask.png',\n",
       "  '20230930_21h03m20s_B06_1_mask.png',\n",
       "  '20230930_21h03m13s_B04_1_mask.png',\n",
       "  '20230930_21h03m09s_B03_4_mask.png',\n",
       "  '20230930_21h03m20s_B06_2_mask.png',\n",
       "  '20230930_21h03m50s_B13_3_mask.png',\n",
       "  '20230930_21h03m35s_B09_3_mask.png',\n",
       "  '20230930_21h03m42s_B11_4_mask.png',\n",
       "  '20230930_21h03m16s_B05_3_mask.png',\n",
       "  '20230930_21h03m39s_B10_3_mask.png',\n",
       "  '20230930_21h03m03s_B01_1_mask.png',\n",
       "  '20230930_21h03m24s_B07_1_mask.png',\n",
       "  '20230930_21h03m50s_B13_4_mask.png',\n",
       "  '20230930_21h03m39s_B10_1_mask.png',\n",
       "  '20230930_21h03m42s_B11_2_mask.png',\n",
       "  '20230930_21h03m31s_B08_2_mask.png',\n",
       "  '20230930_21h03m09s_B03_1_mask.png',\n",
       "  '20230930_21h03m39s_B10_4_mask.png',\n",
       "  '20230930_21h03m46s_B12_3_mask.png',\n",
       "  '20230930_21h03m35s_B09_1_mask.png',\n",
       "  '20230930_21h03m16s_B05_2_mask.png',\n",
       "  '20230930_21h03m50s_B13_2_mask.png',\n",
       "  '20230930_21h03m13s_B04_2_mask.png',\n",
       "  '20230930_21h03m06s_B02_4_mask.png',\n",
       "  '20230930_21h03m39s_B10_2_mask.png',\n",
       "  '20230930_21h03m42s_B11_3_mask.png',\n",
       "  '20230930_21h03m13s_B04_4_mask.png',\n",
       "  '20230930_21h03m06s_B02_2_mask.png',\n",
       "  '20230930_21h03m35s_B09_4_mask.png',\n",
       "  '20230930_21h03m20s_B06_3_mask.png',\n",
       "  '20230930_21h03m46s_B12_2_mask.png',\n",
       "  '20230930_21h03m09s_B03_2_mask.png',\n",
       "  '20230930_21h03m16s_B05_4_mask.png',\n",
       "  '20230930_21h03m50s_B13_1_mask.png',\n",
       "  '20230930_21h03m03s_B01_2_mask.png',\n",
       "  '20230930_21h03m42s_B11_1_mask.png',\n",
       "  '20230930_21h03m06s_B02_1_mask.png',\n",
       "  '20230930_21h03m06s_B02_3_mask.png',\n",
       "  '20230930_21h03m09s_B03_3_mask.png',\n",
       "  '20230930_21h03m13s_B04_3_mask.png',\n",
       "  '20230930_21h03m20s_B06_4_mask.png'],\n",
       " ['20230930_21h03m31s_B08_1.png',\n",
       "  '20230930_21h03m46s_B12_4.png',\n",
       "  '20230930_21h03m31s_B08_3.png',\n",
       "  '20230930_21h03m31s_B08_4.png',\n",
       "  '20230930_21h03m46s_B12_1.png'],\n",
       " ['20230930_21h03m31s_B08_3_mask.png',\n",
       "  '20230930_21h03m31s_B08_1_mask.png',\n",
       "  '20230930_21h03m46s_B12_1_mask.png',\n",
       "  '20230930_21h03m31s_B08_4_mask.png',\n",
       "  '20230930_21h03m46s_B12_4_mask.png'])"
      ]
     },
     "execution_count": 59,
     "metadata": {},
     "output_type": "execute_result"
    }
   ],
   "source": [
    "import os\n",
    "import shutil\n",
    "\n",
    "# 데이터 세트 유형 선택 ('mini_data' 또는 'original_data')\n",
    "data_type = 'mini_data'  # 또는 'original_data'\n",
    "\n",
    "# 데이터셋 경로 설정\n",
    "dataset_path = os.path.join(data_path, data_type)\n",
    "\n",
    "# 훈련 및 검증 데이터 폴더 생성\n",
    "train_dir = os.path.join(data_path, 'train')\n",
    "val_dir = os.path.join(data_path, 'val')\n",
    "\n",
    "# 훈련 및 검증 폴더 내의 이미지와 마스크 폴더 생성\n",
    "train_img_dir = os.path.join(train_dir, 'images')\n",
    "train_mask_dir = os.path.join(train_dir, 'masks')\n",
    "val_img_dir = os.path.join(val_dir, 'images')\n",
    "val_mask_dir = os.path.join(val_dir, 'masks')\n",
    "\n",
    "# 기존 폴더가 있을 경우 삭제\n",
    "for dir_path in [train_dir, val_dir]:\n",
    "    if os.path.exists(dir_path):\n",
    "        shutil.rmtree(dir_path)\n",
    "    os.makedirs(dir_path)\n",
    "\n",
    "# 이미지와 마스크 폴더 생성\n",
    "for sub_dir in [train_img_dir, train_mask_dir, val_img_dir, val_mask_dir]:\n",
    "    os.makedirs(sub_dir)\n",
    "\n",
    "# 훈련용 데이터 복사\n",
    "for idx, row in train_df.iterrows():\n",
    "    # 원본 이미지와 마스크 경로\n",
    "    src_image_path = os.path.join(dataset_path, 'images', row['ImageId'])\n",
    "    src_mask_path = os.path.join(dataset_path, 'masks', row['MaskId'])\n",
    "    # 대상 이미지와 마스크 경로\n",
    "    dst_image_path = os.path.join(train_img_dir, row['ImageId'])\n",
    "    dst_mask_path = os.path.join(train_mask_dir, row['MaskId'])\n",
    "    \n",
    "    # 파일 복사\n",
    "    shutil.copy(src_image_path, dst_image_path)\n",
    "    shutil.copy(src_mask_path, dst_mask_path)\n",
    "\n",
    "# 검증용 데이터 복사\n",
    "for idx, row in val_df.iterrows():\n",
    "    # 원본 이미지와 마스크 경로\n",
    "    src_image_path = os.path.join(dataset_path, 'images', row['ImageId'])\n",
    "    src_mask_path = os.path.join(dataset_path, 'masks', row['MaskId'])\n",
    "    # 대상 이미지와 마스크 경로\n",
    "    dst_image_path = os.path.join(val_img_dir, row['ImageId'])\n",
    "    dst_mask_path = os.path.join(val_mask_dir, row['MaskId'])\n",
    "    \n",
    "    # 파일 복사\n",
    "    shutil.copy(src_image_path, dst_image_path)\n",
    "    shutil.copy(src_mask_path, dst_mask_path)\n",
    "\n",
    "# 확인\n",
    "os.listdir(train_img_dir), os.listdir(train_mask_dir), os.listdir(val_img_dir), os.listdir(val_mask_dir)\n"
   ]
  }
 ],
 "metadata": {
  "kernelspec": {
   "display_name": "my_proj_env",
   "language": "python",
   "name": "python3"
  },
  "language_info": {
   "codemirror_mode": {
    "name": "ipython",
    "version": 3
   },
   "file_extension": ".py",
   "mimetype": "text/x-python",
   "name": "python",
   "nbconvert_exporter": "python",
   "pygments_lexer": "ipython3",
   "version": "3.11.5"
  }
 },
 "nbformat": 4,
 "nbformat_minor": 2
}
