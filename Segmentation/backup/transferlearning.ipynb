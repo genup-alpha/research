{
 "cells": [
  {
   "cell_type": "markdown",
   "metadata": {},
   "source": [
    "## 1. Check dataset"
   ]
  },
  {
   "cell_type": "code",
   "execution_count": 266,
   "metadata": {},
   "outputs": [],
   "source": [
    "import os\n",
    "import cv2\n",
    "import numpy as np\n",
    "import pandas as pd\n",
    "import matplotlib.pyplot as plt"
   ]
  },
  {
   "cell_type": "code",
   "execution_count": 267,
   "metadata": {},
   "outputs": [
    {
     "data": {
      "text/html": [
       "<div>\n",
       "<style scoped>\n",
       "    .dataframe tbody tr th:only-of-type {\n",
       "        vertical-align: middle;\n",
       "    }\n",
       "\n",
       "    .dataframe tbody tr th {\n",
       "        vertical-align: top;\n",
       "    }\n",
       "\n",
       "    .dataframe thead th {\n",
       "        text-align: right;\n",
       "    }\n",
       "</style>\n",
       "<table border=\"1\" class=\"dataframe\">\n",
       "  <thead>\n",
       "    <tr style=\"text-align: right;\">\n",
       "      <th></th>\n",
       "      <th>ImageId</th>\n",
       "      <th>MaskId</th>\n",
       "    </tr>\n",
       "  </thead>\n",
       "  <tbody>\n",
       "    <tr>\n",
       "      <th>0</th>\n",
       "      <td>20230930_21h03m03s_B01_1.png</td>\n",
       "      <td>20230930_21h03m03s_B01_1_mask.png</td>\n",
       "    </tr>\n",
       "    <tr>\n",
       "      <th>1</th>\n",
       "      <td>20230930_21h03m03s_B01_2.png</td>\n",
       "      <td>20230930_21h03m03s_B01_2_mask.png</td>\n",
       "    </tr>\n",
       "    <tr>\n",
       "      <th>2</th>\n",
       "      <td>20230930_21h03m06s_B02_1.png</td>\n",
       "      <td>20230930_21h03m06s_B02_1_mask.png</td>\n",
       "    </tr>\n",
       "    <tr>\n",
       "      <th>3</th>\n",
       "      <td>20230930_21h03m06s_B02_2.png</td>\n",
       "      <td>20230930_21h03m06s_B02_2_mask.png</td>\n",
       "    </tr>\n",
       "    <tr>\n",
       "      <th>4</th>\n",
       "      <td>20230930_21h03m06s_B02_3.png</td>\n",
       "      <td>20230930_21h03m06s_B02_3_mask.png</td>\n",
       "    </tr>\n",
       "  </tbody>\n",
       "</table>\n",
       "</div>"
      ],
      "text/plain": [
       "                        ImageId                             MaskId\n",
       "0  20230930_21h03m03s_B01_1.png  20230930_21h03m03s_B01_1_mask.png\n",
       "1  20230930_21h03m03s_B01_2.png  20230930_21h03m03s_B01_2_mask.png\n",
       "2  20230930_21h03m06s_B02_1.png  20230930_21h03m06s_B02_1_mask.png\n",
       "3  20230930_21h03m06s_B02_2.png  20230930_21h03m06s_B02_2_mask.png\n",
       "4  20230930_21h03m06s_B02_3.png  20230930_21h03m06s_B02_3_mask.png"
      ]
     },
     "execution_count": 267,
     "metadata": {},
     "output_type": "execute_result"
    }
   ],
   "source": [
    "data_dir = \"../DataSet/BeadSegmentation/original_data/\"\n",
    "data_df = pd.read_csv(os.path.join(data_dir, \"train.csv\"))\n",
    "data_df.head()"
   ]
  },
  {
   "cell_type": "code",
   "execution_count": 268,
   "metadata": {},
   "outputs": [],
   "source": [
    "def extract_bead_id(x):\n",
    "    return x.split(\".\")[0]"
   ]
  },
  {
   "cell_type": "code",
   "execution_count": 269,
   "metadata": {},
   "outputs": [
    {
     "data": {
      "text/html": [
       "<div>\n",
       "<style scoped>\n",
       "    .dataframe tbody tr th:only-of-type {\n",
       "        vertical-align: middle;\n",
       "    }\n",
       "\n",
       "    .dataframe tbody tr th {\n",
       "        vertical-align: top;\n",
       "    }\n",
       "\n",
       "    .dataframe thead th {\n",
       "        text-align: right;\n",
       "    }\n",
       "</style>\n",
       "<table border=\"1\" class=\"dataframe\">\n",
       "  <thead>\n",
       "    <tr style=\"text-align: right;\">\n",
       "      <th></th>\n",
       "      <th>ImageId</th>\n",
       "      <th>MaskId</th>\n",
       "      <th>Id</th>\n",
       "    </tr>\n",
       "  </thead>\n",
       "  <tbody>\n",
       "    <tr>\n",
       "      <th>0</th>\n",
       "      <td>20230930_21h03m03s_B01_1.png</td>\n",
       "      <td>20230930_21h03m03s_B01_1_mask.png</td>\n",
       "      <td>20230930_21h03m03s_B01_1</td>\n",
       "    </tr>\n",
       "    <tr>\n",
       "      <th>1</th>\n",
       "      <td>20230930_21h03m03s_B01_2.png</td>\n",
       "      <td>20230930_21h03m03s_B01_2_mask.png</td>\n",
       "      <td>20230930_21h03m03s_B01_2</td>\n",
       "    </tr>\n",
       "    <tr>\n",
       "      <th>2</th>\n",
       "      <td>20230930_21h03m06s_B02_1.png</td>\n",
       "      <td>20230930_21h03m06s_B02_1_mask.png</td>\n",
       "      <td>20230930_21h03m06s_B02_1</td>\n",
       "    </tr>\n",
       "    <tr>\n",
       "      <th>3</th>\n",
       "      <td>20230930_21h03m06s_B02_2.png</td>\n",
       "      <td>20230930_21h03m06s_B02_2_mask.png</td>\n",
       "      <td>20230930_21h03m06s_B02_2</td>\n",
       "    </tr>\n",
       "    <tr>\n",
       "      <th>4</th>\n",
       "      <td>20230930_21h03m06s_B02_3.png</td>\n",
       "      <td>20230930_21h03m06s_B02_3_mask.png</td>\n",
       "      <td>20230930_21h03m06s_B02_3</td>\n",
       "    </tr>\n",
       "    <tr>\n",
       "      <th>5</th>\n",
       "      <td>20230930_21h03m06s_B02_4.png</td>\n",
       "      <td>20230930_21h03m06s_B02_4_mask.png</td>\n",
       "      <td>20230930_21h03m06s_B02_4</td>\n",
       "    </tr>\n",
       "    <tr>\n",
       "      <th>6</th>\n",
       "      <td>20230930_21h03m09s_B03_1.png</td>\n",
       "      <td>20230930_21h03m09s_B03_1_mask.png</td>\n",
       "      <td>20230930_21h03m09s_B03_1</td>\n",
       "    </tr>\n",
       "    <tr>\n",
       "      <th>7</th>\n",
       "      <td>20230930_21h03m09s_B03_2.png</td>\n",
       "      <td>20230930_21h03m09s_B03_2_mask.png</td>\n",
       "      <td>20230930_21h03m09s_B03_2</td>\n",
       "    </tr>\n",
       "    <tr>\n",
       "      <th>8</th>\n",
       "      <td>20230930_21h03m09s_B03_3.png</td>\n",
       "      <td>20230930_21h03m09s_B03_3_mask.png</td>\n",
       "      <td>20230930_21h03m09s_B03_3</td>\n",
       "    </tr>\n",
       "    <tr>\n",
       "      <th>9</th>\n",
       "      <td>20230930_21h03m09s_B03_4.png</td>\n",
       "      <td>20230930_21h03m09s_B03_4_mask.png</td>\n",
       "      <td>20230930_21h03m09s_B03_4</td>\n",
       "    </tr>\n",
       "    <tr>\n",
       "      <th>10</th>\n",
       "      <td>20230930_21h03m13s_B04_1.png</td>\n",
       "      <td>20230930_21h03m13s_B04_1_mask.png</td>\n",
       "      <td>20230930_21h03m13s_B04_1</td>\n",
       "    </tr>\n",
       "    <tr>\n",
       "      <th>11</th>\n",
       "      <td>20230930_21h03m13s_B04_2.png</td>\n",
       "      <td>20230930_21h03m13s_B04_2_mask.png</td>\n",
       "      <td>20230930_21h03m13s_B04_2</td>\n",
       "    </tr>\n",
       "    <tr>\n",
       "      <th>12</th>\n",
       "      <td>20230930_21h03m13s_B04_3.png</td>\n",
       "      <td>20230930_21h03m13s_B04_3_mask.png</td>\n",
       "      <td>20230930_21h03m13s_B04_3</td>\n",
       "    </tr>\n",
       "    <tr>\n",
       "      <th>13</th>\n",
       "      <td>20230930_21h03m13s_B04_4.png</td>\n",
       "      <td>20230930_21h03m13s_B04_4_mask.png</td>\n",
       "      <td>20230930_21h03m13s_B04_4</td>\n",
       "    </tr>\n",
       "    <tr>\n",
       "      <th>14</th>\n",
       "      <td>20230930_21h03m16s_B05_1.png</td>\n",
       "      <td>20230930_21h03m16s_B05_1_mask.png</td>\n",
       "      <td>20230930_21h03m16s_B05_1</td>\n",
       "    </tr>\n",
       "    <tr>\n",
       "      <th>15</th>\n",
       "      <td>20230930_21h03m16s_B05_2.png</td>\n",
       "      <td>20230930_21h03m16s_B05_2_mask.png</td>\n",
       "      <td>20230930_21h03m16s_B05_2</td>\n",
       "    </tr>\n",
       "    <tr>\n",
       "      <th>16</th>\n",
       "      <td>20230930_21h03m16s_B05_3.png</td>\n",
       "      <td>20230930_21h03m16s_B05_3_mask.png</td>\n",
       "      <td>20230930_21h03m16s_B05_3</td>\n",
       "    </tr>\n",
       "    <tr>\n",
       "      <th>17</th>\n",
       "      <td>20230930_21h03m16s_B05_4.png</td>\n",
       "      <td>20230930_21h03m16s_B05_4_mask.png</td>\n",
       "      <td>20230930_21h03m16s_B05_4</td>\n",
       "    </tr>\n",
       "    <tr>\n",
       "      <th>18</th>\n",
       "      <td>20230930_21h03m20s_B06_1.png</td>\n",
       "      <td>20230930_21h03m20s_B06_1_mask.png</td>\n",
       "      <td>20230930_21h03m20s_B06_1</td>\n",
       "    </tr>\n",
       "    <tr>\n",
       "      <th>19</th>\n",
       "      <td>20230930_21h03m20s_B06_2.png</td>\n",
       "      <td>20230930_21h03m20s_B06_2_mask.png</td>\n",
       "      <td>20230930_21h03m20s_B06_2</td>\n",
       "    </tr>\n",
       "    <tr>\n",
       "      <th>20</th>\n",
       "      <td>20230930_21h03m20s_B06_3.png</td>\n",
       "      <td>20230930_21h03m20s_B06_3_mask.png</td>\n",
       "      <td>20230930_21h03m20s_B06_3</td>\n",
       "    </tr>\n",
       "    <tr>\n",
       "      <th>21</th>\n",
       "      <td>20230930_21h03m20s_B06_4.png</td>\n",
       "      <td>20230930_21h03m20s_B06_4_mask.png</td>\n",
       "      <td>20230930_21h03m20s_B06_4</td>\n",
       "    </tr>\n",
       "    <tr>\n",
       "      <th>22</th>\n",
       "      <td>20230930_21h03m24s_B07_1.png</td>\n",
       "      <td>20230930_21h03m24s_B07_1_mask.png</td>\n",
       "      <td>20230930_21h03m24s_B07_1</td>\n",
       "    </tr>\n",
       "    <tr>\n",
       "      <th>23</th>\n",
       "      <td>20230930_21h03m24s_B07_2.png</td>\n",
       "      <td>20230930_21h03m24s_B07_2_mask.png</td>\n",
       "      <td>20230930_21h03m24s_B07_2</td>\n",
       "    </tr>\n",
       "    <tr>\n",
       "      <th>24</th>\n",
       "      <td>20230930_21h03m31s_B08_1.png</td>\n",
       "      <td>20230930_21h03m31s_B08_1_mask.png</td>\n",
       "      <td>20230930_21h03m31s_B08_1</td>\n",
       "    </tr>\n",
       "    <tr>\n",
       "      <th>25</th>\n",
       "      <td>20230930_21h03m31s_B08_2.png</td>\n",
       "      <td>20230930_21h03m31s_B08_2_mask.png</td>\n",
       "      <td>20230930_21h03m31s_B08_2</td>\n",
       "    </tr>\n",
       "    <tr>\n",
       "      <th>26</th>\n",
       "      <td>20230930_21h03m31s_B08_3.png</td>\n",
       "      <td>20230930_21h03m31s_B08_3_mask.png</td>\n",
       "      <td>20230930_21h03m31s_B08_3</td>\n",
       "    </tr>\n",
       "    <tr>\n",
       "      <th>27</th>\n",
       "      <td>20230930_21h03m31s_B08_4.png</td>\n",
       "      <td>20230930_21h03m31s_B08_4_mask.png</td>\n",
       "      <td>20230930_21h03m31s_B08_4</td>\n",
       "    </tr>\n",
       "    <tr>\n",
       "      <th>28</th>\n",
       "      <td>20230930_21h03m35s_B09_1.png</td>\n",
       "      <td>20230930_21h03m35s_B09_1_mask.png</td>\n",
       "      <td>20230930_21h03m35s_B09_1</td>\n",
       "    </tr>\n",
       "    <tr>\n",
       "      <th>29</th>\n",
       "      <td>20230930_21h03m35s_B09_2.png</td>\n",
       "      <td>20230930_21h03m35s_B09_2_mask.png</td>\n",
       "      <td>20230930_21h03m35s_B09_2</td>\n",
       "    </tr>\n",
       "    <tr>\n",
       "      <th>30</th>\n",
       "      <td>20230930_21h03m35s_B09_3.png</td>\n",
       "      <td>20230930_21h03m35s_B09_3_mask.png</td>\n",
       "      <td>20230930_21h03m35s_B09_3</td>\n",
       "    </tr>\n",
       "    <tr>\n",
       "      <th>31</th>\n",
       "      <td>20230930_21h03m35s_B09_4.png</td>\n",
       "      <td>20230930_21h03m35s_B09_4_mask.png</td>\n",
       "      <td>20230930_21h03m35s_B09_4</td>\n",
       "    </tr>\n",
       "    <tr>\n",
       "      <th>32</th>\n",
       "      <td>20230930_21h03m39s_B10_1.png</td>\n",
       "      <td>20230930_21h03m39s_B10_1_mask.png</td>\n",
       "      <td>20230930_21h03m39s_B10_1</td>\n",
       "    </tr>\n",
       "    <tr>\n",
       "      <th>33</th>\n",
       "      <td>20230930_21h03m39s_B10_2.png</td>\n",
       "      <td>20230930_21h03m39s_B10_2_mask.png</td>\n",
       "      <td>20230930_21h03m39s_B10_2</td>\n",
       "    </tr>\n",
       "    <tr>\n",
       "      <th>34</th>\n",
       "      <td>20230930_21h03m39s_B10_3.png</td>\n",
       "      <td>20230930_21h03m39s_B10_3_mask.png</td>\n",
       "      <td>20230930_21h03m39s_B10_3</td>\n",
       "    </tr>\n",
       "    <tr>\n",
       "      <th>35</th>\n",
       "      <td>20230930_21h03m39s_B10_4.png</td>\n",
       "      <td>20230930_21h03m39s_B10_4_mask.png</td>\n",
       "      <td>20230930_21h03m39s_B10_4</td>\n",
       "    </tr>\n",
       "    <tr>\n",
       "      <th>36</th>\n",
       "      <td>20230930_21h03m42s_B11_1.png</td>\n",
       "      <td>20230930_21h03m42s_B11_1_mask.png</td>\n",
       "      <td>20230930_21h03m42s_B11_1</td>\n",
       "    </tr>\n",
       "    <tr>\n",
       "      <th>37</th>\n",
       "      <td>20230930_21h03m42s_B11_2.png</td>\n",
       "      <td>20230930_21h03m42s_B11_2_mask.png</td>\n",
       "      <td>20230930_21h03m42s_B11_2</td>\n",
       "    </tr>\n",
       "    <tr>\n",
       "      <th>38</th>\n",
       "      <td>20230930_21h03m42s_B11_3.png</td>\n",
       "      <td>20230930_21h03m42s_B11_3_mask.png</td>\n",
       "      <td>20230930_21h03m42s_B11_3</td>\n",
       "    </tr>\n",
       "    <tr>\n",
       "      <th>39</th>\n",
       "      <td>20230930_21h03m42s_B11_4.png</td>\n",
       "      <td>20230930_21h03m42s_B11_4_mask.png</td>\n",
       "      <td>20230930_21h03m42s_B11_4</td>\n",
       "    </tr>\n",
       "    <tr>\n",
       "      <th>40</th>\n",
       "      <td>20230930_21h03m46s_B12_1.png</td>\n",
       "      <td>20230930_21h03m46s_B12_1_mask.png</td>\n",
       "      <td>20230930_21h03m46s_B12_1</td>\n",
       "    </tr>\n",
       "    <tr>\n",
       "      <th>41</th>\n",
       "      <td>20230930_21h03m46s_B12_2.png</td>\n",
       "      <td>20230930_21h03m46s_B12_2_mask.png</td>\n",
       "      <td>20230930_21h03m46s_B12_2</td>\n",
       "    </tr>\n",
       "    <tr>\n",
       "      <th>42</th>\n",
       "      <td>20230930_21h03m46s_B12_3.png</td>\n",
       "      <td>20230930_21h03m46s_B12_3_mask.png</td>\n",
       "      <td>20230930_21h03m46s_B12_3</td>\n",
       "    </tr>\n",
       "    <tr>\n",
       "      <th>43</th>\n",
       "      <td>20230930_21h03m46s_B12_4.png</td>\n",
       "      <td>20230930_21h03m46s_B12_4_mask.png</td>\n",
       "      <td>20230930_21h03m46s_B12_4</td>\n",
       "    </tr>\n",
       "    <tr>\n",
       "      <th>44</th>\n",
       "      <td>20230930_21h03m50s_B13_1.png</td>\n",
       "      <td>20230930_21h03m50s_B13_1_mask.png</td>\n",
       "      <td>20230930_21h03m50s_B13_1</td>\n",
       "    </tr>\n",
       "    <tr>\n",
       "      <th>45</th>\n",
       "      <td>20230930_21h03m50s_B13_2.png</td>\n",
       "      <td>20230930_21h03m50s_B13_2_mask.png</td>\n",
       "      <td>20230930_21h03m50s_B13_2</td>\n",
       "    </tr>\n",
       "    <tr>\n",
       "      <th>46</th>\n",
       "      <td>20230930_21h03m50s_B13_3.png</td>\n",
       "      <td>20230930_21h03m50s_B13_3_mask.png</td>\n",
       "      <td>20230930_21h03m50s_B13_3</td>\n",
       "    </tr>\n",
       "    <tr>\n",
       "      <th>47</th>\n",
       "      <td>20230930_21h03m50s_B13_4.png</td>\n",
       "      <td>20230930_21h03m50s_B13_4_mask.png</td>\n",
       "      <td>20230930_21h03m50s_B13_4</td>\n",
       "    </tr>\n",
       "  </tbody>\n",
       "</table>\n",
       "</div>"
      ],
      "text/plain": [
       "                         ImageId                             MaskId  \\\n",
       "0   20230930_21h03m03s_B01_1.png  20230930_21h03m03s_B01_1_mask.png   \n",
       "1   20230930_21h03m03s_B01_2.png  20230930_21h03m03s_B01_2_mask.png   \n",
       "2   20230930_21h03m06s_B02_1.png  20230930_21h03m06s_B02_1_mask.png   \n",
       "3   20230930_21h03m06s_B02_2.png  20230930_21h03m06s_B02_2_mask.png   \n",
       "4   20230930_21h03m06s_B02_3.png  20230930_21h03m06s_B02_3_mask.png   \n",
       "5   20230930_21h03m06s_B02_4.png  20230930_21h03m06s_B02_4_mask.png   \n",
       "6   20230930_21h03m09s_B03_1.png  20230930_21h03m09s_B03_1_mask.png   \n",
       "7   20230930_21h03m09s_B03_2.png  20230930_21h03m09s_B03_2_mask.png   \n",
       "8   20230930_21h03m09s_B03_3.png  20230930_21h03m09s_B03_3_mask.png   \n",
       "9   20230930_21h03m09s_B03_4.png  20230930_21h03m09s_B03_4_mask.png   \n",
       "10  20230930_21h03m13s_B04_1.png  20230930_21h03m13s_B04_1_mask.png   \n",
       "11  20230930_21h03m13s_B04_2.png  20230930_21h03m13s_B04_2_mask.png   \n",
       "12  20230930_21h03m13s_B04_3.png  20230930_21h03m13s_B04_3_mask.png   \n",
       "13  20230930_21h03m13s_B04_4.png  20230930_21h03m13s_B04_4_mask.png   \n",
       "14  20230930_21h03m16s_B05_1.png  20230930_21h03m16s_B05_1_mask.png   \n",
       "15  20230930_21h03m16s_B05_2.png  20230930_21h03m16s_B05_2_mask.png   \n",
       "16  20230930_21h03m16s_B05_3.png  20230930_21h03m16s_B05_3_mask.png   \n",
       "17  20230930_21h03m16s_B05_4.png  20230930_21h03m16s_B05_4_mask.png   \n",
       "18  20230930_21h03m20s_B06_1.png  20230930_21h03m20s_B06_1_mask.png   \n",
       "19  20230930_21h03m20s_B06_2.png  20230930_21h03m20s_B06_2_mask.png   \n",
       "20  20230930_21h03m20s_B06_3.png  20230930_21h03m20s_B06_3_mask.png   \n",
       "21  20230930_21h03m20s_B06_4.png  20230930_21h03m20s_B06_4_mask.png   \n",
       "22  20230930_21h03m24s_B07_1.png  20230930_21h03m24s_B07_1_mask.png   \n",
       "23  20230930_21h03m24s_B07_2.png  20230930_21h03m24s_B07_2_mask.png   \n",
       "24  20230930_21h03m31s_B08_1.png  20230930_21h03m31s_B08_1_mask.png   \n",
       "25  20230930_21h03m31s_B08_2.png  20230930_21h03m31s_B08_2_mask.png   \n",
       "26  20230930_21h03m31s_B08_3.png  20230930_21h03m31s_B08_3_mask.png   \n",
       "27  20230930_21h03m31s_B08_4.png  20230930_21h03m31s_B08_4_mask.png   \n",
       "28  20230930_21h03m35s_B09_1.png  20230930_21h03m35s_B09_1_mask.png   \n",
       "29  20230930_21h03m35s_B09_2.png  20230930_21h03m35s_B09_2_mask.png   \n",
       "30  20230930_21h03m35s_B09_3.png  20230930_21h03m35s_B09_3_mask.png   \n",
       "31  20230930_21h03m35s_B09_4.png  20230930_21h03m35s_B09_4_mask.png   \n",
       "32  20230930_21h03m39s_B10_1.png  20230930_21h03m39s_B10_1_mask.png   \n",
       "33  20230930_21h03m39s_B10_2.png  20230930_21h03m39s_B10_2_mask.png   \n",
       "34  20230930_21h03m39s_B10_3.png  20230930_21h03m39s_B10_3_mask.png   \n",
       "35  20230930_21h03m39s_B10_4.png  20230930_21h03m39s_B10_4_mask.png   \n",
       "36  20230930_21h03m42s_B11_1.png  20230930_21h03m42s_B11_1_mask.png   \n",
       "37  20230930_21h03m42s_B11_2.png  20230930_21h03m42s_B11_2_mask.png   \n",
       "38  20230930_21h03m42s_B11_3.png  20230930_21h03m42s_B11_3_mask.png   \n",
       "39  20230930_21h03m42s_B11_4.png  20230930_21h03m42s_B11_4_mask.png   \n",
       "40  20230930_21h03m46s_B12_1.png  20230930_21h03m46s_B12_1_mask.png   \n",
       "41  20230930_21h03m46s_B12_2.png  20230930_21h03m46s_B12_2_mask.png   \n",
       "42  20230930_21h03m46s_B12_3.png  20230930_21h03m46s_B12_3_mask.png   \n",
       "43  20230930_21h03m46s_B12_4.png  20230930_21h03m46s_B12_4_mask.png   \n",
       "44  20230930_21h03m50s_B13_1.png  20230930_21h03m50s_B13_1_mask.png   \n",
       "45  20230930_21h03m50s_B13_2.png  20230930_21h03m50s_B13_2_mask.png   \n",
       "46  20230930_21h03m50s_B13_3.png  20230930_21h03m50s_B13_3_mask.png   \n",
       "47  20230930_21h03m50s_B13_4.png  20230930_21h03m50s_B13_4_mask.png   \n",
       "\n",
       "                          Id  \n",
       "0   20230930_21h03m03s_B01_1  \n",
       "1   20230930_21h03m03s_B01_2  \n",
       "2   20230930_21h03m06s_B02_1  \n",
       "3   20230930_21h03m06s_B02_2  \n",
       "4   20230930_21h03m06s_B02_3  \n",
       "5   20230930_21h03m06s_B02_4  \n",
       "6   20230930_21h03m09s_B03_1  \n",
       "7   20230930_21h03m09s_B03_2  \n",
       "8   20230930_21h03m09s_B03_3  \n",
       "9   20230930_21h03m09s_B03_4  \n",
       "10  20230930_21h03m13s_B04_1  \n",
       "11  20230930_21h03m13s_B04_2  \n",
       "12  20230930_21h03m13s_B04_3  \n",
       "13  20230930_21h03m13s_B04_4  \n",
       "14  20230930_21h03m16s_B05_1  \n",
       "15  20230930_21h03m16s_B05_2  \n",
       "16  20230930_21h03m16s_B05_3  \n",
       "17  20230930_21h03m16s_B05_4  \n",
       "18  20230930_21h03m20s_B06_1  \n",
       "19  20230930_21h03m20s_B06_2  \n",
       "20  20230930_21h03m20s_B06_3  \n",
       "21  20230930_21h03m20s_B06_4  \n",
       "22  20230930_21h03m24s_B07_1  \n",
       "23  20230930_21h03m24s_B07_2  \n",
       "24  20230930_21h03m31s_B08_1  \n",
       "25  20230930_21h03m31s_B08_2  \n",
       "26  20230930_21h03m31s_B08_3  \n",
       "27  20230930_21h03m31s_B08_4  \n",
       "28  20230930_21h03m35s_B09_1  \n",
       "29  20230930_21h03m35s_B09_2  \n",
       "30  20230930_21h03m35s_B09_3  \n",
       "31  20230930_21h03m35s_B09_4  \n",
       "32  20230930_21h03m39s_B10_1  \n",
       "33  20230930_21h03m39s_B10_2  \n",
       "34  20230930_21h03m39s_B10_3  \n",
       "35  20230930_21h03m39s_B10_4  \n",
       "36  20230930_21h03m42s_B11_1  \n",
       "37  20230930_21h03m42s_B11_2  \n",
       "38  20230930_21h03m42s_B11_3  \n",
       "39  20230930_21h03m42s_B11_4  \n",
       "40  20230930_21h03m46s_B12_1  \n",
       "41  20230930_21h03m46s_B12_2  \n",
       "42  20230930_21h03m46s_B12_3  \n",
       "43  20230930_21h03m46s_B12_4  \n",
       "44  20230930_21h03m50s_B13_1  \n",
       "45  20230930_21h03m50s_B13_2  \n",
       "46  20230930_21h03m50s_B13_3  \n",
       "47  20230930_21h03m50s_B13_4  "
      ]
     },
     "execution_count": 269,
     "metadata": {},
     "output_type": "execute_result"
    }
   ],
   "source": [
    "data_df[\"Id\"] = data_df.ImageId.apply(lambda x:extract_bead_id(x))\n",
    "data_df"
   ]
  },
  {
   "cell_type": "code",
   "execution_count": 270,
   "metadata": {},
   "outputs": [
    {
     "data": {
      "text/plain": [
       "48"
      ]
     },
     "execution_count": 270,
     "metadata": {},
     "output_type": "execute_result"
    }
   ],
   "source": [
    "bead_ids = np.unique(data_df.Id.values)\n",
    "len(bead_ids)"
   ]
  },
  {
   "cell_type": "code",
   "execution_count": 271,
   "metadata": {},
   "outputs": [],
   "source": [
    "def get_bead_data(data_df, index):\n",
    "    client_ids = np.unique(data_df.Id.values)\n",
    "    client_id = client_ids[index]\n",
    "    client_data = data_df[data_df.Id == client_id]\n",
    "    image_files = list(client_data[\"ImageId\"])\n",
    "    mask_files = list(client_data[\"MaskId\"])\n",
    "    return client_id, image_files, mask_files"
   ]
  },
  {
   "cell_type": "code",
   "execution_count": 272,
   "metadata": {},
   "outputs": [
    {
     "data": {
      "text/plain": [
       "('20230930_21h03m03s_B01_1',\n",
       " ['20230930_21h03m03s_B01_1.png'],\n",
       " ['20230930_21h03m03s_B01_1_mask.png'])"
      ]
     },
     "execution_count": 272,
     "metadata": {},
     "output_type": "execute_result"
    }
   ],
   "source": [
    "index = 0\n",
    "get_bead_data(data_df, index)"
   ]
  },
  {
   "cell_type": "code",
   "execution_count": 273,
   "metadata": {},
   "outputs": [],
   "source": [
    "regions = [\"background\", \"bead\"]\n",
    "colors = ((0,0,0), (255, 255, 255))\n",
    "\n"
   ]
  },
  {
   "cell_type": "code",
   "execution_count": 274,
   "metadata": {},
   "outputs": [],
   "source": [
    "def display_bead_dataset(data_df, data_dir, regions, colors, index=0, image_size=448, wait_time=10000):\n",
    "    bead_id, image_files, mask_files = get_bead_data(data_df, index)\n",
    "\n",
    "    canvas = np.zeros(shape=(image_size, 2*image_size+50, 3), dtype=np.uint8)\n",
    "    window_name = 'Bead DataSet'\n",
    "    cv2.namedWindow(window_name, cv2.WINDOW_NORMAL)\n",
    "\n",
    "    for i in range(len(image_files)):\n",
    "        image = cv2.imread(os.path.join(data_dir, \"images\", image_files[i]))\n",
    "        if image is None:\n",
    "            continue\n",
    "        image = cv2.cvtColor(image, cv2.COLOR_BGR2RGB)\n",
    "        \n",
    "        mask = cv2.imread(os.path.join(data_dir, \"masks\", mask_files[i]))\n",
    "        if mask is None:\n",
    "            continue\n",
    "        mask = cv2.cvtColor(mask, cv2.COLOR_BGR2RGB)\n",
    "        \n",
    "        grid_pad = 50\n",
    "        canvas[:, :image_size, :] = image\n",
    "        canvas[:, image_size+grid_pad:2*image_size+grid_pad, :] = mask\n",
    "        \n",
    "        text_buff = 210\n",
    "        for j in range(1, len(regions)):\n",
    "            cv2.putText(canvas, f'{regions[j].upper()}', (900, text_buff), cv2.FONT_HERSHEY_SIMPLEX, 1, colors[j], 2)\n",
    "            text_buff += 40\n",
    "        \n",
    "        cv2.imshow(window_name, canvas)\n",
    "        key = cv2.waitKey(wait_time)\n",
    "        if key == 27:  # ESC key\n",
    "            break\n",
    "        if cv2.getWindowProperty(window_name, cv2.WND_PROP_VISIBLE) < 1:  \n",
    "            break\n",
    "\n",
    "    cv2.destroyAllWindows()\n",
    "\n",
    "# This function encapsulates the updated display mechanism. \n",
    "# It checks for the ESC key and window close event to exit. \n",
    "# Function calls are commented out to prevent execution at this stage.\n"
   ]
  },
  {
   "cell_type": "code",
   "execution_count": 275,
   "metadata": {},
   "outputs": [],
   "source": [
    "# display_bead_dataset(data_df, data_dir, [\"region1\", \"region2\"], [(255,0,0), (0,255,0)], index=0, image_size=448, wait_time=10000)"
   ]
  },
  {
   "cell_type": "code",
   "execution_count": 276,
   "metadata": {},
   "outputs": [
    {
     "data": {
      "text/plain": [
       "array([[[0, 0, 0],\n",
       "        [0, 0, 0],\n",
       "        [0, 0, 0],\n",
       "        ...,\n",
       "        [0, 0, 0],\n",
       "        [0, 0, 0],\n",
       "        [0, 0, 0]],\n",
       "\n",
       "       [[0, 0, 0],\n",
       "        [0, 0, 0],\n",
       "        [0, 0, 0],\n",
       "        ...,\n",
       "        [0, 0, 0],\n",
       "        [0, 0, 0],\n",
       "        [0, 0, 0]],\n",
       "\n",
       "       [[0, 0, 0],\n",
       "        [0, 0, 0],\n",
       "        [0, 0, 0],\n",
       "        ...,\n",
       "        [0, 0, 0],\n",
       "        [0, 0, 0],\n",
       "        [0, 0, 0]],\n",
       "\n",
       "       ...,\n",
       "\n",
       "       [[0, 0, 0],\n",
       "        [0, 0, 0],\n",
       "        [0, 0, 0],\n",
       "        ...,\n",
       "        [0, 0, 0],\n",
       "        [0, 0, 0],\n",
       "        [0, 0, 0]],\n",
       "\n",
       "       [[0, 0, 0],\n",
       "        [0, 0, 0],\n",
       "        [0, 0, 0],\n",
       "        ...,\n",
       "        [0, 0, 0],\n",
       "        [0, 0, 0],\n",
       "        [0, 0, 0]],\n",
       "\n",
       "       [[0, 0, 0],\n",
       "        [0, 0, 0],\n",
       "        [0, 0, 0],\n",
       "        ...,\n",
       "        [0, 0, 0],\n",
       "        [0, 0, 0],\n",
       "        [0, 0, 0]]], dtype=uint8)"
      ]
     },
     "execution_count": 276,
     "metadata": {},
     "output_type": "execute_result"
    }
   ],
   "source": [
    "mask"
   ]
  },
  {
   "cell_type": "code",
   "execution_count": 277,
   "metadata": {},
   "outputs": [
    {
     "data": {
      "text/plain": [
       "array([  0, 255], dtype=uint8)"
      ]
     },
     "execution_count": 277,
     "metadata": {},
     "output_type": "execute_result"
    }
   ],
   "source": [
    "np.unique(mask)"
   ]
  },
  {
   "cell_type": "markdown",
   "metadata": {},
   "source": [
    "## 2. Build tensor module"
   ]
  },
  {
   "cell_type": "code",
   "execution_count": 278,
   "metadata": {},
   "outputs": [],
   "source": [
    "IMAGE_SIZE = 224    # U-net input image size: 224*224"
   ]
  },
  {
   "cell_type": "code",
   "execution_count": 279,
   "metadata": {},
   "outputs": [],
   "source": [
    "import os\n",
    "import shutil\n",
    "import cv2\n",
    "import numpy as np\n",
    "import torch\n",
    "from sklearn.model_selection import train_test_split\n",
    "\n",
    "class bead_dataset():\n",
    "    def __init__(self, data_dir, phase, transformer=None, split_ratio=0.1):\n",
    "        self.phase = phase\n",
    "        self.root_dir = data_dir\n",
    "        self.data_dir = os.path.join(data_dir, \"origianl_data\")  # 원본 데이터 폴더\n",
    "        self.images_dir = os.path.join(data_dir, phase, \"images\")\n",
    "        self.masks_dir = os.path.join(data_dir, phase, \"masks\")\n",
    "\n",
    "        # 원본 데이터 폴더 확인 및 train/val 데이터 폴더 생성\n",
    "        self.prepare_data_folders(split_ratio)\n",
    "        \n",
    "        # 이미지와 마스크 파일 목록 로드\n",
    "        self.image_files = [filename for filename in os.listdir(self.images_dir) if filename.endswith(\"png\")]\n",
    "        self.mask_files = [filename for filename in os.listdir(self.masks_dir) if filename.endswith(\"png\")]\n",
    "        assert len(self.image_files) == len(self.mask_files), \"The number of images and masks must be the same.\"\n",
    "\n",
    "        self.transformer = transformer\n",
    "\n",
    "    def prepare_data_folders(self, split_ratio):\n",
    "        original_images = [f for f in os.listdir(os.path.join(self.data_dir, \"images\")) if f.endswith('png')]\n",
    "        original_masks = [f for f in os.listdir(os.path.join(self.data_dir, \"masks\")) if f.endswith('png')]\n",
    "\n",
    "        # 데이터 분할\n",
    "        train_images, val_images = train_test_split(original_images, test_size=split_ratio, random_state=42)\n",
    "\n",
    "        # 폴더 경로 설정\n",
    "        train_images_dir = os.path.join(self.root_dir, \"train\", \"images\")\n",
    "        train_masks_dir = os.path.join(self.root_dir, \"train\", \"masks\")\n",
    "        val_images_dir = os.path.join(self.root_dir, \"val\", \"images\")\n",
    "        val_masks_dir = os.path.join(self.root_dir, \"val\", \"masks\")\n",
    "\n",
    "        # 필요한 경우 폴더 생성\n",
    "        for directory in [train_images_dir, train_masks_dir, val_images_dir, val_masks_dir]:\n",
    "            os.makedirs(directory, exist_ok=True)\n",
    "        \n",
    "        # 이미지와 마스크 파일 복사\n",
    "        for img_list, img_dir, mask_dir in [(train_images, train_images_dir, train_masks_dir), (val_images, val_images_dir, val_masks_dir)]:\n",
    "            for img in img_list:\n",
    "                shutil.copy(os.path.join(self.data_dir, \"images\", img), img_dir)\n",
    "                \n",
    "                # 마스크 파일명 추정 및 복사\n",
    "                mask_name = img[:-4] + '_mask.png'\n",
    "                if mask_name in original_masks:\n",
    "                    shutil.copy(os.path.join(self.data_dir, \"masks\", mask_name), mask_dir)\n",
    "                else:\n",
    "                    print(f\"Warning: No matching mask file found for {img}\")\n",
    "\n",
    "    def __len__(self):\n",
    "        return len(self.image_files)\n",
    "\n",
    "    def __getitem__(self, index):\n",
    "        image = cv2.imread(os.path.join(self.images_dir, self.image_files[index]))\n",
    "        image = cv2.resize(image, dsize=(IMAGE_SIZE,IMAGE_SIZE), interpolation=cv2.INTER_LINEAR)\n",
    "        mask = cv2.imread(os.path.join(self.masks_dir, self.mask_files[index]))\n",
    "        mask = cv2.resize(mask, dsize=(IMAGE_SIZE,IMAGE_SIZE), interpolation=cv2.INTER_NEAREST)\n",
    "        mask[mask < 240] = 0\n",
    "        mask[mask >= 240] = 255\n",
    "        mask = mask / 255\n",
    "\n",
    "        mask_H, mask_W, mask_C = mask.shape\n",
    "        background = np.ones((mask_H, mask_W))\n",
    "        background[mask[...,0] != 0] = 0\n",
    "        background[mask[...,1] != 0] = 0\n",
    "        background[mask[...,2] != 0] = 0\n",
    "        mask = np.concatenate([np.expand_dims(background, -1), mask], axis=-1)\n",
    "        mask = np.argmax(mask, axis=-1)\n",
    "\n",
    "        if self.transformer:\n",
    "            image = self.transformer(image)\n",
    "        target = torch.from_numpy(mask).long()\n",
    "        return image, target\n"
   ]
  },
  {
   "cell_type": "code",
   "execution_count": 280,
   "metadata": {},
   "outputs": [],
   "source": [
    "data_dir = \"../DataSet/BeadSegmentation/\"\n",
    "dset = bead_dataset(data_dir, \"train\")"
   ]
  },
  {
   "cell_type": "code",
   "execution_count": 281,
   "metadata": {},
   "outputs": [
    {
     "data": {
      "text/plain": [
       "(array([[[165, 173, 164],\n",
       "         [168, 184, 174],\n",
       "         [168, 186, 169],\n",
       "         ...,\n",
       "         [255, 255, 239],\n",
       "         [254, 254, 233],\n",
       "         [253, 253, 230]],\n",
       " \n",
       "        [[163, 174, 167],\n",
       "         [165, 183, 174],\n",
       "         [169, 186, 173],\n",
       "         ...,\n",
       "         [255, 255, 248],\n",
       "         [255, 255, 244],\n",
       "         [254, 255, 242]],\n",
       " \n",
       "        [[170, 182, 168],\n",
       "         [171, 184, 168],\n",
       "         [171, 186, 168],\n",
       "         ...,\n",
       "         [255, 255, 252],\n",
       "         [255, 255, 253],\n",
       "         [253, 254, 250]],\n",
       " \n",
       "        ...,\n",
       " \n",
       "        [[117, 126, 123],\n",
       "         [115, 127, 128],\n",
       "         [113, 126, 127],\n",
       "         ...,\n",
       "         [255, 255, 244],\n",
       "         [255, 255, 241],\n",
       "         [255, 255, 238]],\n",
       " \n",
       "        [[119, 122, 119],\n",
       "         [117, 123, 122],\n",
       "         [114, 125, 124],\n",
       "         ...,\n",
       "         [254, 254, 239],\n",
       "         [254, 255, 239],\n",
       "         [254, 255, 235]],\n",
       " \n",
       "        [[123, 126, 118],\n",
       "         [120, 127, 118],\n",
       "         [116, 127, 119],\n",
       "         ...,\n",
       "         [253, 254, 236],\n",
       "         [254, 254, 242],\n",
       "         [254, 254, 241]]], dtype=uint8),\n",
       " tensor([[0, 0, 0,  ..., 0, 0, 0],\n",
       "         [0, 0, 0,  ..., 0, 0, 0],\n",
       "         [0, 0, 0,  ..., 0, 0, 0],\n",
       "         ...,\n",
       "         [0, 0, 0,  ..., 0, 0, 0],\n",
       "         [0, 0, 0,  ..., 0, 0, 0],\n",
       "         [0, 0, 0,  ..., 0, 0, 0]]))"
      ]
     },
     "execution_count": 281,
     "metadata": {},
     "output_type": "execute_result"
    }
   ],
   "source": [
    "dset[0]"
   ]
  },
  {
   "cell_type": "code",
   "execution_count": 282,
   "metadata": {},
   "outputs": [],
   "source": [
    "from torchvision import transforms\n",
    "\n",
    "def build_transformer():\n",
    "    transformer = transforms.Compose([\n",
    "        transforms.ToTensor(),\n",
    "        transforms.Normalize(mean=[0.485,0.456,0.406], std=[0.229, 0.224, 0.225])\n",
    "    ])\n",
    "    return transformer"
   ]
  },
  {
   "cell_type": "code",
   "execution_count": 283,
   "metadata": {},
   "outputs": [],
   "source": [
    "transformer = build_transformer()\n",
    "dset = bead_dataset(data_dir=data_dir, phase=\"train\", transformer=transformer)"
   ]
  },
  {
   "cell_type": "code",
   "execution_count": 284,
   "metadata": {},
   "outputs": [
    {
     "data": {
      "text/plain": [
       "(tensor([[[ 0.7077,  0.7591,  0.7591,  ...,  2.2489,  2.2318,  2.2147],\n",
       "          [ 0.6734,  0.7077,  0.7762,  ...,  2.2489,  2.2489,  2.2318],\n",
       "          [ 0.7933,  0.8104,  0.8104,  ...,  2.2489,  2.2489,  2.2147],\n",
       "          ...,\n",
       "          [-0.1143, -0.1486, -0.1828,  ...,  2.2489,  2.2489,  2.2489],\n",
       "          [-0.0801, -0.1143, -0.1657,  ...,  2.2318,  2.2318,  2.2318],\n",
       "          [-0.0116, -0.0629, -0.1314,  ...,  2.2147,  2.2318,  2.2318]],\n",
       " \n",
       "         [[ 0.9930,  1.1856,  1.2206,  ...,  2.4286,  2.4111,  2.3936],\n",
       "          [ 1.0105,  1.1681,  1.2206,  ...,  2.4286,  2.4286,  2.4286],\n",
       "          [ 1.1506,  1.1856,  1.2206,  ...,  2.4286,  2.4286,  2.4111],\n",
       "          ...,\n",
       "          [ 0.1702,  0.1877,  0.1702,  ...,  2.4286,  2.4286,  2.4286],\n",
       "          [ 0.1001,  0.1176,  0.1527,  ...,  2.4111,  2.4286,  2.4286],\n",
       "          [ 0.1702,  0.1877,  0.1877,  ...,  2.4111,  2.4111,  2.4111]],\n",
       " \n",
       "         [[ 1.0539,  1.2282,  1.1411,  ...,  2.3611,  2.2566,  2.2043],\n",
       "          [ 1.1062,  1.2282,  1.2108,  ...,  2.5180,  2.4483,  2.4134],\n",
       "          [ 1.1237,  1.1237,  1.1237,  ...,  2.5877,  2.6051,  2.5529],\n",
       "          ...,\n",
       "          [ 0.3393,  0.4265,  0.4091,  ...,  2.4483,  2.3960,  2.3437],\n",
       "          [ 0.2696,  0.3219,  0.3568,  ...,  2.3611,  2.3611,  2.2914],\n",
       "          [ 0.2522,  0.2522,  0.2696,  ...,  2.3088,  2.4134,  2.3960]]]),\n",
       " tensor([[0, 0, 0,  ..., 0, 0, 0],\n",
       "         [0, 0, 0,  ..., 0, 0, 0],\n",
       "         [0, 0, 0,  ..., 0, 0, 0],\n",
       "         ...,\n",
       "         [0, 0, 0,  ..., 0, 0, 0],\n",
       "         [0, 0, 0,  ..., 0, 0, 0],\n",
       "         [0, 0, 0,  ..., 0, 0, 0]]))"
      ]
     },
     "execution_count": 284,
     "metadata": {},
     "output_type": "execute_result"
    }
   ],
   "source": [
    "dset[0]"
   ]
  },
  {
   "cell_type": "code",
   "execution_count": 285,
   "metadata": {},
   "outputs": [],
   "source": [
    "def collate_fn(batch):\n",
    "    images = []\n",
    "    targets = []\n",
    "    for a, b in batch:\n",
    "        images.append(a)\n",
    "        targets.append(b)\n",
    "    images = torch.stack(images, dim=0)\n",
    "    targets = torch.stack(targets, dim=0)\n",
    "    return images, targets"
   ]
  },
  {
   "cell_type": "code",
   "execution_count": 286,
   "metadata": {},
   "outputs": [
    {
     "name": "stdout",
     "output_type": "stream",
     "text": [
      "image shape: torch.Size([3, 224, 224])\n",
      "target shape: torch.Size([224, 224])\n"
     ]
    }
   ],
   "source": [
    "image, target = dset[0]\n",
    "print(f\"image shape: {image.shape}\")\n",
    "print(f\"target shape: {target.shape}\")"
   ]
  },
  {
   "cell_type": "code",
   "execution_count": 287,
   "metadata": {},
   "outputs": [],
   "source": [
    "from torch.utils.data import DataLoader"
   ]
  },
  {
   "cell_type": "code",
   "execution_count": 288,
   "metadata": {},
   "outputs": [],
   "source": [
    "dloader = DataLoader(dset, batch_size=4, shuffle=True, collate_fn=collate_fn)"
   ]
  },
  {
   "cell_type": "code",
   "execution_count": 289,
   "metadata": {},
   "outputs": [
    {
     "name": "stdout",
     "output_type": "stream",
     "text": [
      "images shape: torch.Size([4, 3, 224, 224])\n",
      "targets shape: torch.Size([4, 224, 224])\n"
     ]
    }
   ],
   "source": [
    "for index, batch in enumerate(dloader):\n",
    "    images = batch[0]\n",
    "    targets = batch[1]\n",
    "    print(f\"images shape: {images.shape}\")\n",
    "    print(f\"targets shape: {targets.shape}\")\n",
    "    \n",
    "    if index == 0:\n",
    "        break"
   ]
  },
  {
   "cell_type": "code",
   "execution_count": 290,
   "metadata": {},
   "outputs": [],
   "source": [
    "def build_dataloader(data_dir, batch_size=4):\n",
    "    transformer = build_transformer()\n",
    "    \n",
    "    dataloaders = {}\n",
    "    train_dataset = bead_dataset(data_dir=data_dir, phase=\"train\", transformer=transformer)\n",
    "    dataloaders[\"train\"] = DataLoader(train_dataset, batch_size=batch_size, shuffle=False, collate_fn=collate_fn)   # 16,000여개 데이터 중 앞 120개 데이터만 사용하기 위해 Shuffle을 하지 않음(Segmentation code와 차이점)\n",
    "    \n",
    "    val_dataset = bead_dataset(data_dir=data_dir, phase=\"val\", transformer=transformer)\n",
    "    dataloaders[\"val\"] = DataLoader(val_dataset, batch_size=batch_size, shuffle=False, collate_fn=collate_fn)\n",
    "    return dataloaders"
   ]
  },
  {
   "cell_type": "code",
   "execution_count": 291,
   "metadata": {},
   "outputs": [
    {
     "name": "stdout",
     "output_type": "stream",
     "text": [
      "images shape: torch.Size([4, 3, 224, 224])\n",
      "targets shape: torch.Size([4, 224, 224])\n",
      "images shape: torch.Size([4, 3, 224, 224])\n",
      "targets shape: torch.Size([4, 224, 224])\n"
     ]
    }
   ],
   "source": [
    "dataloaders = build_dataloader(data_dir=data_dir) # 기본 batch 크기 4\n",
    "# dataloaders = build_dataloader(data_dir=data_dir, batch_size=6) # batch 크기 6\n",
    "\n",
    "for phase in [\"train\", \"val\"]:\n",
    "    for index, batch in enumerate(dataloaders[phase]):\n",
    "        images = batch[0]\n",
    "        targets = batch[1]\n",
    "        print(f\"images shape: {images.shape}\")\n",
    "        print(f\"targets shape: {targets.shape}\")\n",
    "        \n",
    "        if index == 0:\n",
    "            break"
   ]
  },
  {
   "cell_type": "markdown",
   "metadata": {},
   "source": [
    "## 3. U-Net based on VGG16 backbone"
   ]
  },
  {
   "cell_type": "code",
   "execution_count": 292,
   "metadata": {},
   "outputs": [],
   "source": [
    "import torch.nn as nn\n",
    "from torchvision import transforms, models"
   ]
  },
  {
   "cell_type": "code",
   "execution_count": 293,
   "metadata": {},
   "outputs": [],
   "source": [
    "def ConvLayer(in_channels, out_channels, kernel_size=3, padding=1):\n",
    "    layers = nn.Sequential(\n",
    "        nn.Conv2d(in_channels, out_channels, kernel_size=kernel_size, padding=padding),\n",
    "        nn.BatchNorm2d(out_channels),\n",
    "        nn.ReLU(inplace=True),\n",
    "        nn.Conv2d(out_channels, out_channels, kernel_size=kernel_size, padding=padding),\n",
    "        nn.BatchNorm2d(out_channels),\n",
    "        nn.ReLU(inplace=True),\n",
    "    )\n",
    "    return layers\n",
    "\n",
    "def UpConvLayer(in_channels, out_channels):\n",
    "    layers = nn.Sequential(\n",
    "        nn.ConvTranspose2d(in_channels, out_channels, kernel_size=2, stride=2),\n",
    "        nn.BatchNorm2d(out_channels),\n",
    "        nn.ReLU(inplace=True)\n",
    "    )\n",
    "    return layers"
   ]
  },
  {
   "cell_type": "code",
   "execution_count": 294,
   "metadata": {},
   "outputs": [
    {
     "name": "stderr",
     "output_type": "stream",
     "text": [
      "/home/club8080/.pyenv/versions/3.11.5/envs/my_proj_env/lib/python3.11/site-packages/torchvision/models/_utils.py:208: UserWarning: The parameter 'pretrained' is deprecated since 0.13 and may be removed in the future, please use 'weights' instead.\n",
      "  warnings.warn(\n",
      "/home/club8080/.pyenv/versions/3.11.5/envs/my_proj_env/lib/python3.11/site-packages/torchvision/models/_utils.py:223: UserWarning: Arguments other than a weight enum or `None` for 'weights' are deprecated since 0.13 and may be removed in the future. The current behavior is equivalent to passing `weights=None`.\n",
      "  warnings.warn(msg)\n"
     ]
    },
    {
     "data": {
      "text/plain": [
       "VGG(\n",
       "  (features): Sequential(\n",
       "    (0): Conv2d(3, 64, kernel_size=(3, 3), stride=(1, 1), padding=(1, 1))\n",
       "    (1): BatchNorm2d(64, eps=1e-05, momentum=0.1, affine=True, track_running_stats=True)\n",
       "    (2): ReLU(inplace=True)\n",
       "    (3): Conv2d(64, 64, kernel_size=(3, 3), stride=(1, 1), padding=(1, 1))\n",
       "    (4): BatchNorm2d(64, eps=1e-05, momentum=0.1, affine=True, track_running_stats=True)\n",
       "    (5): ReLU(inplace=True)\n",
       "    (6): MaxPool2d(kernel_size=2, stride=2, padding=0, dilation=1, ceil_mode=False)\n",
       "    (7): Conv2d(64, 128, kernel_size=(3, 3), stride=(1, 1), padding=(1, 1))\n",
       "    (8): BatchNorm2d(128, eps=1e-05, momentum=0.1, affine=True, track_running_stats=True)\n",
       "    (9): ReLU(inplace=True)\n",
       "    (10): Conv2d(128, 128, kernel_size=(3, 3), stride=(1, 1), padding=(1, 1))\n",
       "    (11): BatchNorm2d(128, eps=1e-05, momentum=0.1, affine=True, track_running_stats=True)\n",
       "    (12): ReLU(inplace=True)\n",
       "    (13): MaxPool2d(kernel_size=2, stride=2, padding=0, dilation=1, ceil_mode=False)\n",
       "    (14): Conv2d(128, 256, kernel_size=(3, 3), stride=(1, 1), padding=(1, 1))\n",
       "    (15): BatchNorm2d(256, eps=1e-05, momentum=0.1, affine=True, track_running_stats=True)\n",
       "    (16): ReLU(inplace=True)\n",
       "    (17): Conv2d(256, 256, kernel_size=(3, 3), stride=(1, 1), padding=(1, 1))\n",
       "    (18): BatchNorm2d(256, eps=1e-05, momentum=0.1, affine=True, track_running_stats=True)\n",
       "    (19): ReLU(inplace=True)\n",
       "    (20): Conv2d(256, 256, kernel_size=(3, 3), stride=(1, 1), padding=(1, 1))\n",
       "    (21): BatchNorm2d(256, eps=1e-05, momentum=0.1, affine=True, track_running_stats=True)\n",
       "    (22): ReLU(inplace=True)\n",
       "    (23): MaxPool2d(kernel_size=2, stride=2, padding=0, dilation=1, ceil_mode=False)\n",
       "    (24): Conv2d(256, 512, kernel_size=(3, 3), stride=(1, 1), padding=(1, 1))\n",
       "    (25): BatchNorm2d(512, eps=1e-05, momentum=0.1, affine=True, track_running_stats=True)\n",
       "    (26): ReLU(inplace=True)\n",
       "    (27): Conv2d(512, 512, kernel_size=(3, 3), stride=(1, 1), padding=(1, 1))\n",
       "    (28): BatchNorm2d(512, eps=1e-05, momentum=0.1, affine=True, track_running_stats=True)\n",
       "    (29): ReLU(inplace=True)\n",
       "    (30): Conv2d(512, 512, kernel_size=(3, 3), stride=(1, 1), padding=(1, 1))\n",
       "    (31): BatchNorm2d(512, eps=1e-05, momentum=0.1, affine=True, track_running_stats=True)\n",
       "    (32): ReLU(inplace=True)\n",
       "    (33): MaxPool2d(kernel_size=2, stride=2, padding=0, dilation=1, ceil_mode=False)\n",
       "    (34): Conv2d(512, 512, kernel_size=(3, 3), stride=(1, 1), padding=(1, 1))\n",
       "    (35): BatchNorm2d(512, eps=1e-05, momentum=0.1, affine=True, track_running_stats=True)\n",
       "    (36): ReLU(inplace=True)\n",
       "    (37): Conv2d(512, 512, kernel_size=(3, 3), stride=(1, 1), padding=(1, 1))\n",
       "    (38): BatchNorm2d(512, eps=1e-05, momentum=0.1, affine=True, track_running_stats=True)\n",
       "    (39): ReLU(inplace=True)\n",
       "    (40): Conv2d(512, 512, kernel_size=(3, 3), stride=(1, 1), padding=(1, 1))\n",
       "    (41): BatchNorm2d(512, eps=1e-05, momentum=0.1, affine=True, track_running_stats=True)\n",
       "    (42): ReLU(inplace=True)\n",
       "    (43): MaxPool2d(kernel_size=2, stride=2, padding=0, dilation=1, ceil_mode=False)\n",
       "  )\n",
       "  (avgpool): AdaptiveAvgPool2d(output_size=(7, 7))\n",
       "  (classifier): Sequential(\n",
       "    (0): Linear(in_features=25088, out_features=4096, bias=True)\n",
       "    (1): ReLU(inplace=True)\n",
       "    (2): Dropout(p=0.5, inplace=False)\n",
       "    (3): Linear(in_features=4096, out_features=4096, bias=True)\n",
       "    (4): ReLU(inplace=True)\n",
       "    (5): Dropout(p=0.5, inplace=False)\n",
       "    (6): Linear(in_features=4096, out_features=1000, bias=True)\n",
       "  )\n",
       ")"
      ]
     },
     "execution_count": 294,
     "metadata": {},
     "output_type": "execute_result"
    }
   ],
   "source": [
    "vgg16 = models.vgg16_bn(pretrained=False)\n",
    "vgg16"
   ]
  },
  {
   "cell_type": "code",
   "execution_count": 295,
   "metadata": {},
   "outputs": [],
   "source": [
    "class Encoder(nn.Module):\n",
    "    def __init__(self, pretrained):\n",
    "        super().__init__()\n",
    "        backbone = models.vgg16_bn(pretrained=pretrained).features\n",
    "        self.conv_block1 = nn.Sequential(*backbone[:6])\n",
    "        self.conv_block2 = nn.Sequential(*backbone[6:13])\n",
    "        self.conv_block3 = nn.Sequential(*backbone[13:20])\n",
    "        self.conv_block4 = nn.Sequential(*backbone[20:27])\n",
    "        self.conv_block5 = nn.Sequential(*backbone[27:34], \n",
    "                                         ConvLayer(512, 1024, kernel_size=1, padding=0))\n",
    "\n",
    "    def forward(self, x):\n",
    "        encode_features = []\n",
    "        out = self.conv_block1(x)\n",
    "        encode_features.append(out)\n",
    "        \n",
    "        out = self.conv_block2(out)\n",
    "        encode_features.append(out)\n",
    "        \n",
    "        out = self.conv_block3(out)\n",
    "        encode_features.append(out)\n",
    "        \n",
    "        out = self.conv_block4(out)\n",
    "        encode_features.append(out)\n",
    "        \n",
    "        out = self.conv_block5(out)\n",
    "        return out, encode_features"
   ]
  },
  {
   "cell_type": "code",
   "execution_count": 296,
   "metadata": {},
   "outputs": [],
   "source": [
    "# dummy encoder test\n",
    "\n",
    "encoder = Encoder(pretrained=False)\n",
    "x = torch.randn(1, 3, 224, 224)\n",
    "out, ftrs = encoder(x)"
   ]
  },
  {
   "cell_type": "code",
   "execution_count": 297,
   "metadata": {},
   "outputs": [
    {
     "name": "stdout",
     "output_type": "stream",
     "text": [
      "torch.Size([1, 64, 224, 224])\n",
      "torch.Size([1, 128, 112, 112])\n",
      "torch.Size([1, 256, 56, 56])\n",
      "torch.Size([1, 512, 28, 28])\n",
      "torch.Size([1, 1024, 14, 14])\n"
     ]
    }
   ],
   "source": [
    "# feature 확인\n",
    "\n",
    "for ftr in ftrs:\n",
    "    print(ftr.shape)\n",
    "print(out.shape)"
   ]
  },
  {
   "cell_type": "code",
   "execution_count": 298,
   "metadata": {},
   "outputs": [],
   "source": [
    "class Decoder(nn.Module):\n",
    "    def __init__(self):\n",
    "        super().__init__()\n",
    "        self.upconv_layer1 = UpConvLayer(in_channels=1024, out_channels=512)\n",
    "        self.conv_block1 = ConvLayer(in_channels=512+512, out_channels=512)\n",
    "        \n",
    "        self.upconv_layer2 = UpConvLayer(in_channels=512, out_channels=256)\n",
    "        self.conv_block2 = ConvLayer(in_channels=256+256, out_channels=256)\n",
    "        \n",
    "        self.upconv_layer3 = UpConvLayer(in_channels=256, out_channels=128)\n",
    "        self.conv_block3 = ConvLayer(in_channels=128+128, out_channels=128)\n",
    "        \n",
    "        self.upconv_layer4 = UpConvLayer(in_channels=128, out_channels=64)\n",
    "        self.conv_block4 = ConvLayer(in_channels=64+64, out_channels=64)\n",
    "        \n",
    "    def forward(self, x, encoder_features):     # encoder의 feature가 함께 입력값으로 들어감\n",
    "        out = self.upconv_layer1(x)\n",
    "        out = torch.cat([out, encoder_features[-1]], dim=1)\n",
    "        out = self.conv_block1(out)\n",
    "        \n",
    "        out = self.upconv_layer2(out)\n",
    "        out = torch.cat([out, encoder_features[-2]], dim=1)\n",
    "        out = self.conv_block2(out)\n",
    "        \n",
    "        out = self.upconv_layer3(out)\n",
    "        out = torch.cat([out, encoder_features[-3]], dim=1)\n",
    "        out = self.conv_block3(out)\n",
    "        \n",
    "        out = self.upconv_layer4(out)\n",
    "        out = torch.cat([out, encoder_features[-4]], dim=1)\n",
    "        out = self.conv_block4(out)\n",
    "        return out"
   ]
  },
  {
   "cell_type": "code",
   "execution_count": 299,
   "metadata": {},
   "outputs": [],
   "source": [
    "# dummy test\n",
    "\n",
    "encoder = Encoder(pretrained=False)\n",
    "decoder = Decoder()\n",
    "x = torch.randn(1, 3, 224, 224)\n",
    "out, ftrs = encoder(x)\n",
    "out = decoder(out, ftrs)"
   ]
  },
  {
   "cell_type": "code",
   "execution_count": 300,
   "metadata": {},
   "outputs": [
    {
     "name": "stdout",
     "output_type": "stream",
     "text": [
      "torch.Size([1, 64, 224, 224])\n"
     ]
    }
   ],
   "source": [
    "print(out.shape)"
   ]
  },
  {
   "cell_type": "code",
   "execution_count": 301,
   "metadata": {},
   "outputs": [],
   "source": [
    "class UNet(nn.Module):\n",
    "    def __init__(self, num_classes, pretrained):\n",
    "        super().__init__()\n",
    "        self.encoder = Encoder(pretrained)\n",
    "        self.decoder = Decoder()\n",
    "        self.head = nn.Conv2d(64, num_classes, kernel_size=1, padding=0)\n",
    "        \n",
    "    def forward(self, x):\n",
    "        out, encode_features = self.encoder(x)\n",
    "        out = self.decoder(out, encode_features)\n",
    "        out = self.head(out)\n",
    "        return out"
   ]
  },
  {
   "cell_type": "code",
   "execution_count": 302,
   "metadata": {},
   "outputs": [],
   "source": [
    "# dummy test\n",
    "model = UNet(num_classes=4, pretrained=False)\n",
    "x = torch.randn(1, 3, 224, 224)\n",
    "out = model(x)"
   ]
  },
  {
   "cell_type": "code",
   "execution_count": 303,
   "metadata": {},
   "outputs": [
    {
     "name": "stdout",
     "output_type": "stream",
     "text": [
      "torch.Size([1, 4, 224, 224])\n"
     ]
    }
   ],
   "source": [
    "print(out.shape)"
   ]
  },
  {
   "cell_type": "markdown",
   "metadata": {},
   "source": [
    "## 4. Semantic segmentation Loss and train code"
   ]
  },
  {
   "cell_type": "code",
   "execution_count": 304,
   "metadata": {},
   "outputs": [],
   "source": [
    "import torch.nn.functional as F         # Loss 함수 구현을 위해 필요"
   ]
  },
  {
   "cell_type": "code",
   "execution_count": 305,
   "metadata": {},
   "outputs": [],
   "source": [
    "class UNet_metric():\n",
    "    def __init__(self, num_classes):\n",
    "        self.num_classes = num_classes\n",
    "        self.CE_loss = nn.CrossEntropyLoss(reduction=\"mean\")\n",
    "        \n",
    "    def __call__(self, pred, target):\n",
    "        loss1 = self.CE_loss(pred, target)      # cross entropy loss\n",
    "        onehot_pred = F.one_hot(torch.argmax(pred, dim=1), num_classes=self.num_classes).permute(0, 3, 1, 2)\n",
    "        onehot_target = F.one_hot(target, num_classes=self.num_classes).permute(0, 3, 1, 2)\n",
    "        loss2 = self._get_dice_loss(onehot_pred, onehot_target) # dice coefficient loss\n",
    "        loss = loss1 + loss2\n",
    "        \n",
    "        dice_coefficient = self._get_batch_dice_coefficient(onehot_pred, onehot_target)\n",
    "        return loss, dice_coefficient\n",
    "    \n",
    "    def _get_dice_coeffient(self, pred, target):\n",
    "        set_inter = torch.dot(pred.reshape(-1).float(), target.reshape(-1).float())\n",
    "        set_sum = pred.sum() + target.sum()\n",
    "        if set_sum.item() == 0:\n",
    "            set_sum = 2 * set_inter\n",
    "        dice_coeff = (2 * set_inter) / (set_sum + 1e-9)\n",
    "        return dice_coeff\n",
    "    \n",
    "    def _get_multiclass_dice_coefficient(self, pred, target):\n",
    "        dice = 0\n",
    "        for class_index in range(1, self.num_classes):              # 0은 background에 대한 것으로 학습할 필요가 없음\n",
    "            dice += self._get_dice_coeffient(pred[class_index], target[class_index])\n",
    "        return dice / (self.num_classes - 1)\n",
    "    \n",
    "    def _get_batch_dice_coefficient(self, pred, target):\n",
    "        num_batch = pred.shape[0]\n",
    "        dice = 0\n",
    "        for batch_index in range(num_batch):\n",
    "            dice += self._get_multiclass_dice_coefficient(pred[batch_index], target[batch_index])\n",
    "        return dice / num_batch\n",
    "    \n",
    "    def _get_dice_loss(self, pred, target):\n",
    "        return 1 - self._get_batch_dice_coefficient(pred, target)"
   ]
  },
  {
   "cell_type": "code",
   "execution_count": 306,
   "metadata": {},
   "outputs": [
    {
     "name": "stdout",
     "output_type": "stream",
     "text": [
      "images shape: torch.Size([4, 3, 224, 224])\n",
      "targets shape: torch.Size([4, 224, 224])\n"
     ]
    }
   ],
   "source": [
    "# dummy test\n",
    "\n",
    "dataloaders = build_dataloader(data_dir=data_dir) # 기본 batch 크기 4\n",
    "# dataloaders = build_dataloader(data_dir=data_dir, batch_size=6) # batch 크기 6\n",
    "\n",
    "for index, batch in enumerate(dataloaders[phase]):\n",
    "    images = batch[0]\n",
    "    targets = batch[1]\n",
    "    predictions = model(images)\n",
    "\n",
    "    print(f\"images shape: {images.shape}\")\n",
    "    print(f\"targets shape: {targets.shape}\")\n",
    "    \n",
    "    if index == 0:\n",
    "        break"
   ]
  },
  {
   "cell_type": "code",
   "execution_count": 307,
   "metadata": {},
   "outputs": [
    {
     "data": {
      "text/plain": [
       "(tensor(2.2471, grad_fn=<AddBackward0>), tensor(0.0499))"
      ]
     },
     "execution_count": 307,
     "metadata": {},
     "output_type": "execute_result"
    }
   ],
   "source": [
    "# dummy test\n",
    "\n",
    "criterion = UNet_metric(num_classes=4)\n",
    "criterion(predictions, targets)"
   ]
  },
  {
   "cell_type": "code",
   "execution_count": 308,
   "metadata": {},
   "outputs": [],
   "source": [
    "def train_one_epoch(dataloaders, model, criterion, optimizer, device):\n",
    "    losses = {}\n",
    "    dice_coefficients = {}\n",
    "    \n",
    "    for phase in [\"train\", \"val\"]:\n",
    "        running_loss = 0.0\n",
    "        running_dice_coeff = 0.0\n",
    "        \n",
    "        if phase == \"train\":\n",
    "            model.train()\n",
    "        else:\n",
    "            model.eval()\n",
    "        \n",
    "        for index, batch in enumerate(dataloaders[phase]):\n",
    "            images = batch[0].to(device)\n",
    "            targets = batch[1].to(device)\n",
    "            \n",
    "            with torch.set_grad_enabled(phase == \"train\"):\n",
    "                predictions = model(images)\n",
    "                loss, dice_coefficient = criterion(predictions, targets)\n",
    "                \n",
    "            if phase == \"train\":\n",
    "                optimizer.zero_grad()\n",
    "                loss.backward()\n",
    "                optimizer.step()\n",
    "            \n",
    "            running_loss += loss.item()\n",
    "            running_dice_coeff += dice_coefficient.item()\n",
    "\n",
    "            if index == 10: # 10 index * mini_batch 데이터수 만큼 데이터를 한정\n",
    "                break\n",
    "\n",
    "        losses[phase] = running_loss / index\n",
    "        dice_coefficients[phase] = running_dice_coeff / index\n",
    "        \n",
    "    return losses, dice_coefficients"
   ]
  },
  {
   "cell_type": "markdown",
   "metadata": {},
   "source": [
    "## 5. Weight Initialization 과 Transfer learning 모델 비교하기"
   ]
  },
  {
   "cell_type": "code",
   "execution_count": 309,
   "metadata": {},
   "outputs": [],
   "source": [
    "is_cuda = True\n",
    "\n",
    "NUM_CLASSES = 2\n",
    "IMAGE_SIZE = 224\n",
    "BATCH_SIZE = 12\n",
    "DEVICE = torch.device('cuda' if torch.cuda.is_available() and is_cuda else 'cpu')\n",
    "\n",
    "num_epochs = 30"
   ]
  },
  {
   "cell_type": "markdown",
   "metadata": {},
   "source": [
    "### 5-1. He initialization"
   ]
  },
  {
   "cell_type": "code",
   "execution_count": 310,
   "metadata": {},
   "outputs": [],
   "source": [
    "def He_initialization(module):\n",
    "    if isinstance(module, torch.nn.Conv2d):\n",
    "        torch.nn.init.kaiming_normal_(module.weight) # He initialization\n",
    "    elif isinstance(module, torch.nn.BatchNorm2d):\n",
    "        module.weight.data.fill_(1.0)"
   ]
  },
  {
   "cell_type": "code",
   "execution_count": 311,
   "metadata": {},
   "outputs": [],
   "source": [
    "dataloaders = build_dataloader(data_dir, batch_size=BATCH_SIZE)\n",
    "model = UNet(num_classes=NUM_CLASSES, pretrained=False)\n",
    "model.apply(He_initialization)\n",
    "model = model.to(DEVICE)\n",
    "criterion = UNet_metric(num_classes=NUM_CLASSES)\n",
    "optimizer = torch.optim.SGD(model.parameters(), lr=0.001, momentum=0.9)"
   ]
  },
  {
   "cell_type": "code",
   "execution_count": 312,
   "metadata": {},
   "outputs": [
    {
     "ename": "ZeroDivisionError",
     "evalue": "float division by zero",
     "output_type": "error",
     "traceback": [
      "\u001b[0;31m---------------------------------------------------------------------------\u001b[0m",
      "\u001b[0;31mZeroDivisionError\u001b[0m                         Traceback (most recent call last)",
      "Cell \u001b[0;32mIn[312], line 5\u001b[0m\n\u001b[1;32m      2\u001b[0m val_loss_def, val_dice_coefficient_def \u001b[38;5;241m=\u001b[39m [], []\n\u001b[1;32m      4\u001b[0m \u001b[38;5;28;01mfor\u001b[39;00m epoch \u001b[38;5;129;01min\u001b[39;00m \u001b[38;5;28mrange\u001b[39m(num_epochs):\n\u001b[0;32m----> 5\u001b[0m     losses, dice_coefficients \u001b[38;5;241m=\u001b[39m \u001b[43mtrain_one_epoch\u001b[49m\u001b[43m(\u001b[49m\u001b[43mdataloaders\u001b[49m\u001b[43m,\u001b[49m\u001b[43m \u001b[49m\u001b[43mmodel\u001b[49m\u001b[43m,\u001b[49m\u001b[43m \u001b[49m\u001b[43mcriterion\u001b[49m\u001b[43m,\u001b[49m\u001b[43m \u001b[49m\u001b[43moptimizer\u001b[49m\u001b[43m,\u001b[49m\u001b[43m \u001b[49m\u001b[43mDEVICE\u001b[49m\u001b[43m)\u001b[49m\n\u001b[1;32m      6\u001b[0m     train_loss_def\u001b[38;5;241m.\u001b[39mappend(losses[\u001b[38;5;124m\"\u001b[39m\u001b[38;5;124mtrain\u001b[39m\u001b[38;5;124m\"\u001b[39m])\n\u001b[1;32m      7\u001b[0m     val_loss_def\u001b[38;5;241m.\u001b[39mappend(losses[\u001b[38;5;124m\"\u001b[39m\u001b[38;5;124mval\u001b[39m\u001b[38;5;124m\"\u001b[39m])\n",
      "Cell \u001b[0;32mIn[308], line 33\u001b[0m, in \u001b[0;36mtrain_one_epoch\u001b[0;34m(dataloaders, model, criterion, optimizer, device)\u001b[0m\n\u001b[1;32m     30\u001b[0m         \u001b[38;5;28;01mif\u001b[39;00m index \u001b[38;5;241m==\u001b[39m \u001b[38;5;241m10\u001b[39m: \u001b[38;5;66;03m# 10 index * mini_batch 데이터수 만큼 데이터를 한정\u001b[39;00m\n\u001b[1;32m     31\u001b[0m             \u001b[38;5;28;01mbreak\u001b[39;00m\n\u001b[0;32m---> 33\u001b[0m     losses[phase] \u001b[38;5;241m=\u001b[39m \u001b[43mrunning_loss\u001b[49m\u001b[43m \u001b[49m\u001b[38;5;241;43m/\u001b[39;49m\u001b[43m \u001b[49m\u001b[43mindex\u001b[49m\n\u001b[1;32m     34\u001b[0m     dice_coefficients[phase] \u001b[38;5;241m=\u001b[39m running_dice_coeff \u001b[38;5;241m/\u001b[39m index\n\u001b[1;32m     36\u001b[0m \u001b[38;5;28;01mreturn\u001b[39;00m losses, dice_coefficients\n",
      "\u001b[0;31mZeroDivisionError\u001b[0m: float division by zero"
     ]
    }
   ],
   "source": [
    "train_loss_def, train_dice_coefficient_def = [], []\n",
    "val_loss_def, val_dice_coefficient_def = [], []\n",
    "\n",
    "for epoch in range(num_epochs):\n",
    "    losses, dice_coefficients = train_one_epoch(dataloaders, model, criterion, optimizer, DEVICE)\n",
    "    train_loss_def.append(losses[\"train\"])\n",
    "    val_loss_def.append(losses[\"val\"])\n",
    "    train_dice_coefficient_def.append(dice_coefficients[\"train\"])\n",
    "    val_dice_coefficient_def.append(dice_coefficients[\"val\"])\n",
    "    \n",
    "    print(f\"{epoch}/{num_epochs} - Train loss: {losses['train']:.4f}, Val loss: {losses['val']:.4f},\" + \\\n",
    "          f\" Train dice: {dice_coefficients['train']:.4f}, Val dice: {dice_coefficients['val']:.4f}\")"
   ]
  },
  {
   "cell_type": "markdown",
   "metadata": {},
   "source": [
    "### 5-2. Weight transfer pre-trained on ImageNet"
   ]
  },
  {
   "cell_type": "markdown",
   "metadata": {},
   "source": [
    "Weight Initialization보다 성능이 조금 더 낫다"
   ]
  },
  {
   "cell_type": "code",
   "execution_count": null,
   "metadata": {},
   "outputs": [
    {
     "name": "stderr",
     "output_type": "stream",
     "text": [
      "/home/club8080/.pyenv/versions/3.11.5/envs/my_proj_env/lib/python3.11/site-packages/torchvision/models/_utils.py:223: UserWarning: Arguments other than a weight enum or `None` for 'weights' are deprecated since 0.13 and may be removed in the future. The current behavior is equivalent to passing `weights=VGG16_BN_Weights.IMAGENET1K_V1`. You can also use `weights=VGG16_BN_Weights.DEFAULT` to get the most up-to-date weights.\n",
      "  warnings.warn(msg)\n"
     ]
    }
   ],
   "source": [
    "dataloaders = build_dataloader(data_dir, batch_size=BATCH_SIZE)\n",
    "model = UNet(num_classes=NUM_CLASSES, pretrained=True)          # pretrained True!!!!\n",
    "model = model.to(DEVICE)\n",
    "criterion = UNet_metric(num_classes=NUM_CLASSES)\n",
    "optimizer = torch.optim.SGD(model.parameters(), lr=0.001, momentum=0.9)"
   ]
  },
  {
   "cell_type": "code",
   "execution_count": null,
   "metadata": {},
   "outputs": [
    {
     "name": "stdout",
     "output_type": "stream",
     "text": [
      "0/30 - Train loss: 1.5568, Val loss: 1.7959, Train dice: 0.2962, Val dice: 0.0000\n",
      "1/30 - Train loss: 1.6076, Val loss: 1.7574, Train dice: 0.1627, Val dice: 0.0000\n",
      "2/30 - Train loss: 1.6803, Val loss: 1.7208, Train dice: 0.0345, Val dice: 0.0000\n",
      "3/30 - Train loss: 1.6828, Val loss: 1.6967, Train dice: 0.0075, Val dice: 0.0001\n",
      "4/30 - Train loss: 1.6763, Val loss: 1.6847, Train dice: 0.0032, Val dice: 0.0003\n",
      "5/30 - Train loss: 1.6707, Val loss: 1.6771, Train dice: 0.0021, Val dice: 0.0010\n",
      "6/30 - Train loss: 1.6650, Val loss: 1.6730, Train dice: 0.0018, Val dice: 0.0011\n",
      "7/30 - Train loss: 1.6587, Val loss: 1.6698, Train dice: 0.0020, Val dice: 0.0010\n",
      "8/30 - Train loss: 1.6515, Val loss: 1.6653, Train dice: 0.0024, Val dice: 0.0011\n",
      "9/30 - Train loss: 1.6431, Val loss: 1.6593, Train dice: 0.0035, Val dice: 0.0015\n",
      "10/30 - Train loss: 1.6330, Val loss: 1.6518, Train dice: 0.0056, Val dice: 0.0024\n",
      "11/30 - Train loss: 1.6204, Val loss: 1.6433, Train dice: 0.0094, Val dice: 0.0041\n",
      "12/30 - Train loss: 1.6052, Val loss: 1.6335, Train dice: 0.0155, Val dice: 0.0070\n",
      "13/30 - Train loss: 1.5868, Val loss: 1.6224, Train dice: 0.0240, Val dice: 0.0113\n",
      "14/30 - Train loss: 1.5652, Val loss: 1.6096, Train dice: 0.0353, Val dice: 0.0174\n",
      "15/30 - Train loss: 1.5411, Val loss: 1.5958, Train dice: 0.0485, Val dice: 0.0248\n",
      "16/30 - Train loss: 1.5135, Val loss: 1.5820, Train dice: 0.0651, Val dice: 0.0328\n",
      "17/30 - Train loss: 1.4837, Val loss: 1.5694, Train dice: 0.0838, Val dice: 0.0406\n",
      "18/30 - Train loss: 1.4502, Val loss: 1.5573, Train dice: 0.1062, Val dice: 0.0489\n",
      "19/30 - Train loss: 1.4088, Val loss: 1.5452, Train dice: 0.1360, Val dice: 0.0586\n",
      "20/30 - Train loss: 1.3526, Val loss: 1.5309, Train dice: 0.1798, Val dice: 0.0718\n",
      "21/30 - Train loss: 1.2740, Val loss: 1.5141, Train dice: 0.2446, Val dice: 0.0894\n",
      "22/30 - Train loss: 1.1697, Val loss: 1.4970, Train dice: 0.3334, Val dice: 0.1095\n",
      "23/30 - Train loss: 1.0417, Val loss: 1.4834, Train dice: 0.4431, Val dice: 0.1294\n",
      "24/30 - Train loss: 0.8989, Val loss: 1.4802, Train dice: 0.5646, Val dice: 0.1437\n",
      "25/30 - Train loss: 0.7530, Val loss: 1.4944, Train dice: 0.6853, Val dice: 0.1483\n",
      "26/30 - Train loss: 0.6164, Val loss: 1.5234, Train dice: 0.7924, Val dice: 0.1469\n",
      "27/30 - Train loss: 0.4963, Val loss: 1.5503, Train dice: 0.8793, Val dice: 0.1507\n",
      "28/30 - Train loss: 0.3956, Val loss: 1.5416, Train dice: 0.9446, Val dice: 0.1774\n",
      "29/30 - Train loss: 0.3133, Val loss: 1.5139, Train dice: 0.9916, Val dice: 0.2143\n"
     ]
    }
   ],
   "source": [
    "train_loss_prt, train_dice_coefficient_prt = [], []\n",
    "val_loss_prt, val_dice_coefficient_prt = [], []\n",
    "\n",
    "for epoch in range(num_epochs):\n",
    "    losses, dice_coefficients = train_one_epoch(dataloaders, model, criterion, optimizer, DEVICE)\n",
    "    train_loss_prt.append(losses[\"train\"])\n",
    "    val_loss_prt.append(losses[\"val\"])\n",
    "    train_dice_coefficient_prt.append(dice_coefficients[\"train\"])\n",
    "    val_dice_coefficient_prt.append(dice_coefficients[\"val\"])\n",
    "    \n",
    "    print(f\"{epoch}/{num_epochs} - Train loss: {losses['train']:.4f}, Val loss: {losses['val']:.4f},\" + \\\n",
    "          f\" Train dice: {dice_coefficients['train']:.4f}, Val dice: {dice_coefficients['val']:.4f}\")"
   ]
  },
  {
   "cell_type": "markdown",
   "metadata": {},
   "source": [
    "### 5-3. Weight transfer with freezing encoder layer"
   ]
  },
  {
   "cell_type": "code",
   "execution_count": null,
   "metadata": {},
   "outputs": [],
   "source": [
    "dataloaders = build_dataloader(data_dir, batch_size=BATCH_SIZE)\n",
    "model = UNet(num_classes=NUM_CLASSES, pretrained=True)\n",
    "model = model.to(DEVICE)\n",
    "model.encoder.requires_grad_ = False\n",
    "criterion = UNet_metric(num_classes=NUM_CLASSES)\n",
    "optimizer = torch.optim.SGD(filter(lambda p: p.requires_grad, model.parameters()), lr=0.001, momentum=0.9)"
   ]
  },
  {
   "cell_type": "code",
   "execution_count": null,
   "metadata": {},
   "outputs": [
    {
     "name": "stdout",
     "output_type": "stream",
     "text": [
      "0/30 - Train loss: 1.5553, Val loss: 1.8236, Train dice: 0.3017, Val dice: 0.0064\n",
      "1/30 - Train loss: 1.5869, Val loss: 1.7741, Train dice: 0.1835, Val dice: 0.0028\n",
      "2/30 - Train loss: 1.6644, Val loss: 1.7237, Train dice: 0.0489, Val dice: 0.0022\n",
      "3/30 - Train loss: 1.6781, Val loss: 1.6931, Train dice: 0.0117, Val dice: 0.0030\n",
      "4/30 - Train loss: 1.6747, Val loss: 1.6800, Train dice: 0.0051, Val dice: 0.0031\n",
      "5/30 - Train loss: 1.6697, Val loss: 1.6752, Train dice: 0.0036, Val dice: 0.0030\n",
      "6/30 - Train loss: 1.6637, Val loss: 1.6730, Train dice: 0.0036, Val dice: 0.0027\n",
      "7/30 - Train loss: 1.6568, Val loss: 1.6701, Train dice: 0.0042, Val dice: 0.0026\n",
      "8/30 - Train loss: 1.6484, Val loss: 1.6651, Train dice: 0.0056, Val dice: 0.0031\n",
      "9/30 - Train loss: 1.6379, Val loss: 1.6580, Train dice: 0.0084, Val dice: 0.0042\n",
      "10/30 - Train loss: 1.6245, Val loss: 1.6485, Train dice: 0.0129, Val dice: 0.0065\n",
      "11/30 - Train loss: 1.6067, Val loss: 1.6361, Train dice: 0.0205, Val dice: 0.0108\n",
      "12/30 - Train loss: 1.5828, Val loss: 1.6200, Train dice: 0.0331, Val dice: 0.0181\n",
      "13/30 - Train loss: 1.5499, Val loss: 1.5990, Train dice: 0.0535, Val dice: 0.0302\n",
      "14/30 - Train loss: 1.5062, Val loss: 1.5730, Train dice: 0.0840, Val dice: 0.0479\n",
      "15/30 - Train loss: 1.4517, Val loss: 1.5435, Train dice: 0.1252, Val dice: 0.0702\n",
      "16/30 - Train loss: 1.3867, Val loss: 1.5122, Train dice: 0.1767, Val dice: 0.0959\n",
      "17/30 - Train loss: 1.3126, Val loss: 1.4830, Train dice: 0.2370, Val dice: 0.1208\n",
      "18/30 - Train loss: 1.2278, Val loss: 1.4579, Train dice: 0.3068, Val dice: 0.1433\n",
      "19/30 - Train loss: 1.1305, Val loss: 1.4390, Train dice: 0.3875, Val dice: 0.1616\n",
      "20/30 - Train loss: 1.0201, Val loss: 1.4304, Train dice: 0.4788, Val dice: 0.1728\n",
      "21/30 - Train loss: 0.8979, Val loss: 1.4393, Train dice: 0.5786, Val dice: 0.1722\n",
      "22/30 - Train loss: 0.7701, Val loss: 1.4648, Train dice: 0.6799, Val dice: 0.1630\n",
      "23/30 - Train loss: 0.6431, Val loss: 1.5048, Train dice: 0.7754, Val dice: 0.1498\n",
      "24/30 - Train loss: 0.5223, Val loss: 1.5378, Train dice: 0.8600, Val dice: 0.1478\n",
      "25/30 - Train loss: 0.4124, Val loss: 1.5284, Train dice: 0.9302, Val dice: 0.1755\n",
      "26/30 - Train loss: 0.3187, Val loss: 1.5371, Train dice: 0.9841, Val dice: 0.1895\n",
      "27/30 - Train loss: 0.2462, Val loss: 1.5708, Train dice: 1.0210, Val dice: 0.1842\n",
      "28/30 - Train loss: 0.1930, Val loss: 1.5765, Train dice: 1.0447, Val dice: 0.1936\n",
      "29/30 - Train loss: 0.1569, Val loss: 1.5893, Train dice: 1.0585, Val dice: 0.1974\n"
     ]
    }
   ],
   "source": [
    "train_loss_frz, train_dice_coefficient_frz = [], []\n",
    "val_loss_frz, val_dice_coefficient_frz = [], []\n",
    "\n",
    "for epoch in range(num_epochs):\n",
    "    losses, dice_coefficients = train_one_epoch(dataloaders, model, criterion, optimizer, DEVICE)\n",
    "    train_loss_frz.append(losses[\"train\"])\n",
    "    val_loss_frz.append(losses[\"val\"])\n",
    "    train_dice_coefficient_frz.append(dice_coefficients[\"train\"])\n",
    "    val_dice_coefficient_frz.append(dice_coefficients[\"val\"])\n",
    "    \n",
    "    print(f\"{epoch}/{num_epochs} - Train loss: {losses['train']:.4f}, Val loss: {losses['val']:.4f},\" + \\\n",
    "          f\" Train dice: {dice_coefficients['train']:.4f}, Val dice: {dice_coefficients['val']:.4f}\")"
   ]
  },
  {
   "cell_type": "markdown",
   "metadata": {},
   "source": [
    "### 5-4 summary"
   ]
  },
  {
   "cell_type": "code",
   "execution_count": null,
   "metadata": {},
   "outputs": [],
   "source": [
    "from datetime import datetime\n",
    "import pandas as pd\n",
    "import os\n",
    "\n",
    "def save_metrics_to_csv(all_metrics, save_dir):\n",
    "    import pandas as pd\n",
    "    import os\n",
    "    from datetime import datetime\n",
    "\n",
    "    # 현재 날짜와 시간을 기반으로 파일 이름 생성\n",
    "    current_time = datetime.now().strftime(\"%Y%m%d_%H%M%S\")\n",
    "    filename = f'training_results_{current_time}.csv'\n",
    "\n",
    "    # 결과를 저장할 데이터 프레임 생성\n",
    "    epochs = range(len(all_metrics['train_loss_def']))\n",
    "    df = pd.DataFrame({\n",
    "        'Epoch': epochs,\n",
    "        'Train Loss (Default)': all_metrics['train_loss_def'],\n",
    "        'Validation Loss (Default)': all_metrics['val_loss_def'],\n",
    "        'Train Dice Coefficient (Default)': all_metrics['train_dice_def'],\n",
    "        'Validation Dice Coefficient (Default)': all_metrics['val_dice_def'],\n",
    "        'Train Loss (Prt)': all_metrics['train_loss_prt'],\n",
    "        'Validation Loss (Prt)': all_metrics['val_loss_prt'],\n",
    "        'Train Dice Coefficient (Prt)': all_metrics['train_dice_prt'],\n",
    "        'Validation Dice Coefficient (Prt)': all_metrics['val_dice_prt'],\n",
    "        'Train Loss (Frz)': all_metrics['train_loss_frz'],\n",
    "        'Validation Loss (Frz)': all_metrics['val_loss_frz'],\n",
    "        'Train Dice Coefficient (Frz)': all_metrics['train_dice_frz'],\n",
    "        'Validation Dice Coefficient (Frz)': all_metrics['val_dice_frz'],\n",
    "    })\n",
    "\n",
    "    # 저장 경로 생성\n",
    "    os.makedirs(save_dir, exist_ok=True)\n",
    "    # 파일 저장\n",
    "    full_path = os.path.join(save_dir, filename)\n",
    "    df.to_csv(full_path, index=False)\n",
    "    \n",
    "    # 파일 이름 반환\n",
    "    return full_path\n",
    "\n"
   ]
  },
  {
   "cell_type": "code",
   "execution_count": null,
   "metadata": {},
   "outputs": [],
   "source": [
    "all_metrics = {\n",
    "    'train_loss_def': train_loss_def,\n",
    "    'val_loss_def': val_loss_def,\n",
    "    'train_dice_def': train_dice_coefficient_def,\n",
    "    'val_dice_def': val_dice_coefficient_def,\n",
    "    'train_loss_prt': train_loss_prt,\n",
    "    'val_loss_prt': val_loss_prt,\n",
    "    'train_dice_prt': train_dice_coefficient_prt,\n",
    "    'val_dice_prt': val_dice_coefficient_prt,\n",
    "    'train_loss_frz': train_loss_frz,\n",
    "    'val_loss_frz': val_loss_frz,\n",
    "    'train_dice_frz': train_dice_coefficient_frz,\n",
    "    'val_dice_frz': val_dice_coefficient_frz,\n",
    "}\n",
    "\n",
    "save_dir = 'summary'\n",
    "save_file = save_metrics_to_csv(all_metrics, save_dir)"
   ]
  },
  {
   "cell_type": "code",
   "execution_count": null,
   "metadata": {},
   "outputs": [],
   "source": [
    "def plot_combined_metrics(file_path):\n",
    "    # CSV 파일 읽기\n",
    "    data = pd.read_csv(file_path)\n",
    "    \n",
    "    # 그래프 설정\n",
    "    fig, axs = plt.subplots(2, 1, figsize=(14, 12))\n",
    "\n",
    "    # Loss 그래프 (Train & Validation for Default, Prt, Frz)\n",
    "    for setting in ['Default', 'Prt', 'Frz']:\n",
    "        axs[0].plot(data['Epoch'], data[f'Train Loss ({setting})'], label=f'Train Loss ({setting})')\n",
    "        axs[0].plot(data['Epoch'], data[f'Validation Loss ({setting})'], label=f'Validation Loss ({setting})', linestyle='--')\n",
    "    axs[0].set_title('Loss for All Settings')\n",
    "    axs[0].set_xlabel('Epoch')\n",
    "    axs[0].set_ylabel('Loss')\n",
    "    axs[0].legend()\n",
    "    axs[0].grid(True)\n",
    "\n",
    "    # Dice Coefficient 그래프 (Train & Validation for Default, Prt, Frz)\n",
    "    for setting in ['Default', 'Prt', 'Frz']:\n",
    "        axs[1].plot(data['Epoch'], data[f'Train Dice Coefficient ({setting})'], label=f'Train Dice ({setting})')\n",
    "        axs[1].plot(data['Epoch'], data[f'Validation Dice Coefficient ({setting})'], label=f'Validation Dice ({setting})', linestyle='--')\n",
    "    axs[1].set_title('Dice Coefficient for All Settings')\n",
    "    axs[1].set_xlabel('Epoch')\n",
    "    axs[1].set_ylabel('Dice Coefficient')\n",
    "    axs[1].legend()\n",
    "    axs[1].grid(True)\n",
    "\n",
    "    # 그래프 표시\n",
    "    plt.tight_layout()\n",
    "    plt.show()\n"
   ]
  },
  {
   "cell_type": "code",
   "execution_count": 218,
   "metadata": {},
   "outputs": [
    {
     "data": {
      "image/png": "[encoded data removed]",
      "text/plain": [
       "<Figure size 1400x1200 with 2 Axes>"
      ]
     },
     "metadata": {},
     "output_type": "display_data"
    }
   ],
   "source": [
    "plot_combined_metrics('./summary/training_results_20240511_023708.csv')"
   ]
  }
 ],
 "metadata": {
  "kernelspec": {
   "display_name": "my_proj_env",
   "language": "python",
   "name": "python3"
  },
  "language_info": {
   "codemirror_mode": {
    "name": "ipython",
    "version": 3
   },
   "file_extension": ".py",
   "mimetype": "text/x-python",
   "name": "python",
   "nbconvert_exporter": "python",
   "pygments_lexer": "ipython3",
   "version": "3.11.5"
  }
 },
 "nbformat": 4,
 "nbformat_minor": 2
}
